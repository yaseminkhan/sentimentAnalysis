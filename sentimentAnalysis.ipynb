{
  "cells": [
    {
      "cell_type": "markdown",
      "metadata": {
        "id": "SSYrsrvk7KBY"
      },
      "source": [
        "# Sentiment Analysis of IMDB reviews"
      ]
    },
    {
      "cell_type": "markdown",
      "metadata": {
        "id": "ouaj9rmd7KBZ"
      },
      "source": [
        "## Setup"
      ]
    },
    {
      "cell_type": "code",
      "execution_count": 55,
      "metadata": {
        "colab": {
          "base_uri": "https://localhost:8080/"
        },
        "id": "AEBdLC-C7KBZ",
        "outputId": "768223dc-f631-45af-b04a-6d12b1908fa7"
      },
      "outputs": [
        {
          "output_type": "stream",
          "name": "stdout",
          "text": [
            "                                              review sentiment\n",
            "0  One of the other reviewers has mentioned that ...  positive\n",
            "1  A wonderful little production. <br /><br />The...  positive\n",
            "2  I thought this was a wonderful way to spend ti...  positive\n",
            "3  Basically there's a family where a little boy ...  negative\n",
            "4  Petter Mattei's \"Love in the Time of Money\" is...  positive\n"
          ]
        }
      ],
      "source": [
        "import pandas as pd\n",
        "\n",
        "# Load the dataset\n",
        "df = pd.read_csv('/content/IMDB_Dataset.csv')\n",
        "print(df.head())"
      ]
    },
    {
      "cell_type": "code",
      "execution_count": 56,
      "metadata": {
        "colab": {
          "base_uri": "https://localhost:8080/"
        },
        "id": "SXFjxkWN7KBa",
        "outputId": "679b67ce-8108-4d99-e4d6-0710ed908e63"
      },
      "outputs": [
        {
          "output_type": "stream",
          "name": "stdout",
          "text": [
            "(50, 2)\n"
          ]
        }
      ],
      "source": [
        "#remove to run for whole dataset\n",
        "df = df.head(50)\n",
        "print(df.shape)"
      ]
    },
    {
      "cell_type": "markdown",
      "metadata": {
        "id": "F0n8r-Nw7KBa"
      },
      "source": [
        "## Basic NLTK"
      ]
    },
    {
      "cell_type": "code",
      "execution_count": 57,
      "metadata": {
        "colab": {
          "base_uri": "https://localhost:8080/"
        },
        "id": "KQ0ovw077KBa",
        "outputId": "fe3803cb-19d5-4ef8-e608-761ce2aa150f"
      },
      "outputs": [
        {
          "output_type": "stream",
          "name": "stderr",
          "text": [
            "[nltk_data] Downloading package punkt to /root/nltk_data...\n",
            "[nltk_data]   Package punkt is already up-to-date!\n",
            "[nltk_data] Downloading package averaged_perceptron_tagger to\n",
            "[nltk_data]     /root/nltk_data...\n",
            "[nltk_data]   Package averaged_perceptron_tagger is already up-to-\n",
            "[nltk_data]       date!\n",
            "[nltk_data] Downloading package maxent_ne_chunker to\n",
            "[nltk_data]     /root/nltk_data...\n",
            "[nltk_data]   Package maxent_ne_chunker is already up-to-date!\n",
            "[nltk_data] Downloading package words to /root/nltk_data...\n",
            "[nltk_data]   Package words is already up-to-date!\n",
            "[nltk_data] Downloading package vader_lexicon to /root/nltk_data...\n",
            "[nltk_data]   Package vader_lexicon is already up-to-date!\n"
          ]
        },
        {
          "output_type": "execute_result",
          "data": {
            "text/plain": [
              "True"
            ]
          },
          "metadata": {},
          "execution_count": 57
        }
      ],
      "source": [
        "import nltk\n",
        "nltk.download('punkt')\n",
        "nltk.download('averaged_perceptron_tagger')\n",
        "nltk.download('maxent_ne_chunker')\n",
        "nltk.download('words')\n",
        "nltk.download('vader_lexicon')"
      ]
    },
    {
      "cell_type": "code",
      "execution_count": 58,
      "metadata": {
        "colab": {
          "base_uri": "https://localhost:8080/"
        },
        "id": "v1KIIZsh7KBb",
        "outputId": "cb7067fd-6b92-4e8c-9795-a59c29900b8d"
      },
      "outputs": [
        {
          "output_type": "stream",
          "name": "stdout",
          "text": [
            "Encouraged by the positive comments about this film on here I was looking forward to watching this film. Bad mistake. I've seen 950+ films and this is truly one of the worst of them - it's awful in almost every way: editing, pacing, storyline, 'acting,' soundtrack (the film's only song - a lame country tune - is played no less than four times). The film looks cheap and nasty and is boring in the extreme. Rarely have I been so happy to see the end credits of a film. <br /><br />The only thing that prevents me giving this a 1-score is Harvey Keitel - while this is far from his best performance he at least seems to be making a bit of an effort. One for Keitel obsessives only.\n"
          ]
        }
      ],
      "source": [
        "example = df[\"review\"][8]\n",
        "print(example)"
      ]
    },
    {
      "cell_type": "code",
      "execution_count": 59,
      "metadata": {
        "colab": {
          "base_uri": "https://localhost:8080/"
        },
        "id": "BZ5Q-KwT7KBb",
        "outputId": "19a628e8-035e-4bbc-f6b7-ea6ad2410748"
      },
      "outputs": [
        {
          "output_type": "execute_result",
          "data": {
            "text/plain": [
              "['Encouraged',\n",
              " 'by',\n",
              " 'the',\n",
              " 'positive',\n",
              " 'comments',\n",
              " 'about',\n",
              " 'this',\n",
              " 'film',\n",
              " 'on',\n",
              " 'here']"
            ]
          },
          "metadata": {},
          "execution_count": 59
        }
      ],
      "source": [
        "# split the review into individual words\n",
        "tokens = nltk.word_tokenize(example)\n",
        "tokens[:10]"
      ]
    },
    {
      "cell_type": "code",
      "execution_count": 60,
      "metadata": {
        "colab": {
          "base_uri": "https://localhost:8080/"
        },
        "id": "sPBNgfhN7KBb",
        "outputId": "f9e3e4d4-69e2-45c4-ca8a-a2975dd2391a"
      },
      "outputs": [
        {
          "output_type": "execute_result",
          "data": {
            "text/plain": [
              "[('Encouraged', 'VBN'),\n",
              " ('by', 'IN'),\n",
              " ('the', 'DT'),\n",
              " ('positive', 'JJ'),\n",
              " ('comments', 'NNS'),\n",
              " ('about', 'IN'),\n",
              " ('this', 'DT'),\n",
              " ('film', 'NN'),\n",
              " ('on', 'IN'),\n",
              " ('here', 'RB')]"
            ]
          },
          "metadata": {},
          "execution_count": 60
        }
      ],
      "source": [
        "# add nltk tags to words\n",
        "tagged = nltk.pos_tag(tokens)\n",
        "tagged[:10]"
      ]
    },
    {
      "cell_type": "code",
      "execution_count": 61,
      "metadata": {
        "colab": {
          "base_uri": "https://localhost:8080/"
        },
        "id": "KEt0FMlH7KBb",
        "outputId": "cdf6cef4-668c-4097-e259-05c209ee12aa"
      },
      "outputs": [
        {
          "output_type": "stream",
          "name": "stdout",
          "text": [
            "(S\n",
            "  Encouraged/VBN\n",
            "  by/IN\n",
            "  the/DT\n",
            "  positive/JJ\n",
            "  comments/NNS\n",
            "  about/IN\n",
            "  this/DT\n",
            "  film/NN\n",
            "  on/IN\n",
            "  here/RB\n",
            "  I/PRP\n",
            "  was/VBD\n",
            "  looking/VBG\n",
            "  forward/RB\n",
            "  to/TO\n",
            "  watching/VBG\n",
            "  this/DT\n",
            "  film/NN\n",
            "  ./.\n",
            "  Bad/NNP\n",
            "  mistake/NN\n",
            "  ./.\n",
            "  I/PRP\n",
            "  've/VBP\n",
            "  seen/VBN\n",
            "  950+/CD\n",
            "  films/NNS\n",
            "  and/CC\n",
            "  this/DT\n",
            "  is/VBZ\n",
            "  truly/RB\n",
            "  one/CD\n",
            "  of/IN\n",
            "  the/DT\n",
            "  worst/JJS\n",
            "  of/IN\n",
            "  them/PRP\n",
            "  -/:\n",
            "  it/PRP\n",
            "  's/VBZ\n",
            "  awful/JJ\n",
            "  in/IN\n",
            "  almost/RB\n",
            "  every/DT\n",
            "  way/NN\n",
            "  :/:\n",
            "  editing/NN\n",
            "  ,/,\n",
            "  pacing/NN\n",
            "  ,/,\n",
            "  storyline/NN\n",
            "  ,/,\n",
            "  'acting/VBG\n",
            "  ,/,\n",
            "  '/''\n",
            "  soundtrack/NN\n",
            "  (/(\n",
            "  the/DT\n",
            "  film/NN\n",
            "  's/POS\n",
            "  only/RB\n",
            "  song/JJ\n",
            "  -/:\n",
            "  a/DT\n",
            "  lame/JJ\n",
            "  country/NN\n",
            "  tune/SYM\n",
            "  -/:\n",
            "  is/VBZ\n",
            "  played/VBN\n",
            "  no/RB\n",
            "  less/JJR\n",
            "  than/IN\n",
            "  four/CD\n",
            "  times/NNS\n",
            "  )/)\n",
            "  ./.\n",
            "  The/DT\n",
            "  film/NN\n",
            "  looks/VBZ\n",
            "  cheap/JJ\n",
            "  and/CC\n",
            "  nasty/JJ\n",
            "  and/CC\n",
            "  is/VBZ\n",
            "  boring/VBG\n",
            "  in/IN\n",
            "  the/DT\n",
            "  extreme/NN\n",
            "  ./.\n",
            "  Rarely/RB\n",
            "  have/VBP\n",
            "  I/PRP\n",
            "  been/VBN\n",
            "  so/RB\n",
            "  happy/JJ\n",
            "  to/TO\n",
            "  see/VB\n",
            "  the/DT\n",
            "  end/NN\n",
            "  credits/NNS\n",
            "  of/IN\n",
            "  a/DT\n",
            "  film/NN\n",
            "  ./.\n",
            "  </VB\n",
            "  br/JJ\n",
            "  //NNP\n",
            "  >/NNP\n",
            "  </NNP\n",
            "  br/NN\n",
            "  //NNP\n",
            "  >/VBZ\n",
            "  The/DT\n",
            "  only/JJ\n",
            "  thing/NN\n",
            "  that/IN\n",
            "  prevents/VBZ\n",
            "  me/PRP\n",
            "  giving/VBG\n",
            "  this/DT\n",
            "  a/DT\n",
            "  1-score/JJ\n",
            "  is/VBZ\n",
            "  (PERSON Harvey/NNP Keitel/NNP)\n",
            "  -/:\n",
            "  while/IN\n",
            "  this/DT\n",
            "  is/VBZ\n",
            "  far/RB\n",
            "  from/IN\n",
            "  his/PRP$\n",
            "  best/JJS\n",
            "  performance/NN\n",
            "  he/PRP\n",
            "  at/IN\n",
            "  least/JJS\n",
            "  seems/VBZ\n",
            "  to/TO\n",
            "  be/VB\n",
            "  making/VBG\n",
            "  a/DT\n",
            "  bit/NN\n",
            "  of/IN\n",
            "  an/DT\n",
            "  effort/NN\n",
            "  ./.\n",
            "  One/CD\n",
            "  for/IN\n",
            "  (PERSON Keitel/NNP)\n",
            "  obsessives/VBZ\n",
            "  only/RB\n",
            "  ./.)\n"
          ]
        }
      ],
      "source": [
        "# identify named entities in text\n",
        "entities = nltk.chunk.ne_chunk(tagged)\n",
        "entities.pprint()"
      ]
    },
    {
      "cell_type": "markdown",
      "metadata": {
        "id": "xvg1mfF07KBb"
      },
      "source": [
        "## VADER Sentiment Scoring"
      ]
    },
    {
      "cell_type": "code",
      "execution_count": 62,
      "metadata": {
        "id": "A020jPNL7KBb"
      },
      "outputs": [],
      "source": [
        "from nltk.sentiment import SentimentIntensityAnalyzer\n",
        "from tqdm.notebook import tqdm\n",
        "\n",
        "sia = SentimentIntensityAnalyzer()"
      ]
    },
    {
      "cell_type": "code",
      "execution_count": 63,
      "metadata": {
        "colab": {
          "base_uri": "https://localhost:8080/"
        },
        "id": "ibb5mtzl7KBb",
        "outputId": "144cfe3d-b2b5-4c52-ca07-237639b24941"
      },
      "outputs": [
        {
          "output_type": "execute_result",
          "data": {
            "text/plain": [
              "{'neg': 0.166, 'neu': 0.662, 'pos': 0.172, 'compound': 0.2362}"
            ]
          },
          "metadata": {},
          "execution_count": 63
        }
      ],
      "source": [
        "# the compound score will later be used to determine the accuracy of the model\n",
        "sia.polarity_scores(example)"
      ]
    },
    {
      "cell_type": "code",
      "execution_count": 64,
      "metadata": {
        "colab": {
          "base_uri": "https://localhost:8080/",
          "height": 49,
          "referenced_widgets": [
            "92a0ce0734a044a19dd645a2065ae2d6",
            "90ef8215c3ec499a823e5a6eaceb296d",
            "b94d41c62f1c453ebdb9a1fa4e201433",
            "5613ec38b3f14e25bef50863638613fd",
            "1d05140e2d3c4aeeb501265c5a445c7a",
            "41161c3a1c414e6280acf700389cb0fd",
            "a7bb6873beca4069bca0da691984e42c",
            "ec40a16cd59949d996e58b4352faf2f3",
            "c6ef543857aa4751924463faeccc5a28",
            "23ff467a5fd345debb1fbec60682babf",
            "7d5eba8c4de14a8e834fda3357951983"
          ]
        },
        "id": "WOfQD_6F7KBb",
        "outputId": "6423989a-c579-45a8-d0e5-a02cffd23b3c"
      },
      "outputs": [
        {
          "output_type": "display_data",
          "data": {
            "text/plain": [
              "  0%|          | 0/50 [00:00<?, ?it/s]"
            ],
            "application/vnd.jupyter.widget-view+json": {
              "version_major": 2,
              "version_minor": 0,
              "model_id": "92a0ce0734a044a19dd645a2065ae2d6"
            }
          },
          "metadata": {}
        }
      ],
      "source": [
        "# Run the polarity score on the entire dataset\n",
        "result = {}\n",
        "for i, row in tqdm(df.iterrows(), total=len(df)):\n",
        "    text = row['review']\n",
        "    result[i] = sia.polarity_scores(text)"
      ]
    },
    {
      "cell_type": "code",
      "execution_count": 65,
      "metadata": {
        "colab": {
          "base_uri": "https://localhost:8080/",
          "height": 293
        },
        "id": "PJ7ATLyp7KBb",
        "outputId": "d315c37b-a59e-47c1-b4ce-e6e7b8db57e6"
      },
      "outputs": [
        {
          "output_type": "execute_result",
          "data": {
            "text/plain": [
              "     neg    neu    pos  compound  \\\n",
              "0  0.203  0.748  0.048   -0.9951   \n",
              "1  0.053  0.776  0.172    0.9641   \n",
              "2  0.094  0.714  0.192    0.9605   \n",
              "3  0.138  0.797  0.065   -0.9213   \n",
              "4  0.052  0.801  0.147    0.9744   \n",
              "\n",
              "                                              review sentiment  \n",
              "0  One of the other reviewers has mentioned that ...  positive  \n",
              "1  A wonderful little production. <br /><br />The...  positive  \n",
              "2  I thought this was a wonderful way to spend ti...  positive  \n",
              "3  Basically there's a family where a little boy ...  negative  \n",
              "4  Petter Mattei's \"Love in the Time of Money\" is...  positive  "
            ],
            "text/html": [
              "\n",
              "  <div id=\"df-3f45c859-3853-43d7-ab09-8264f76fc76f\" class=\"colab-df-container\">\n",
              "    <div>\n",
              "<style scoped>\n",
              "    .dataframe tbody tr th:only-of-type {\n",
              "        vertical-align: middle;\n",
              "    }\n",
              "\n",
              "    .dataframe tbody tr th {\n",
              "        vertical-align: top;\n",
              "    }\n",
              "\n",
              "    .dataframe thead th {\n",
              "        text-align: right;\n",
              "    }\n",
              "</style>\n",
              "<table border=\"1\" class=\"dataframe\">\n",
              "  <thead>\n",
              "    <tr style=\"text-align: right;\">\n",
              "      <th></th>\n",
              "      <th>neg</th>\n",
              "      <th>neu</th>\n",
              "      <th>pos</th>\n",
              "      <th>compound</th>\n",
              "      <th>review</th>\n",
              "      <th>sentiment</th>\n",
              "    </tr>\n",
              "  </thead>\n",
              "  <tbody>\n",
              "    <tr>\n",
              "      <th>0</th>\n",
              "      <td>0.203</td>\n",
              "      <td>0.748</td>\n",
              "      <td>0.048</td>\n",
              "      <td>-0.9951</td>\n",
              "      <td>One of the other reviewers has mentioned that ...</td>\n",
              "      <td>positive</td>\n",
              "    </tr>\n",
              "    <tr>\n",
              "      <th>1</th>\n",
              "      <td>0.053</td>\n",
              "      <td>0.776</td>\n",
              "      <td>0.172</td>\n",
              "      <td>0.9641</td>\n",
              "      <td>A wonderful little production. &lt;br /&gt;&lt;br /&gt;The...</td>\n",
              "      <td>positive</td>\n",
              "    </tr>\n",
              "    <tr>\n",
              "      <th>2</th>\n",
              "      <td>0.094</td>\n",
              "      <td>0.714</td>\n",
              "      <td>0.192</td>\n",
              "      <td>0.9605</td>\n",
              "      <td>I thought this was a wonderful way to spend ti...</td>\n",
              "      <td>positive</td>\n",
              "    </tr>\n",
              "    <tr>\n",
              "      <th>3</th>\n",
              "      <td>0.138</td>\n",
              "      <td>0.797</td>\n",
              "      <td>0.065</td>\n",
              "      <td>-0.9213</td>\n",
              "      <td>Basically there's a family where a little boy ...</td>\n",
              "      <td>negative</td>\n",
              "    </tr>\n",
              "    <tr>\n",
              "      <th>4</th>\n",
              "      <td>0.052</td>\n",
              "      <td>0.801</td>\n",
              "      <td>0.147</td>\n",
              "      <td>0.9744</td>\n",
              "      <td>Petter Mattei's \"Love in the Time of Money\" is...</td>\n",
              "      <td>positive</td>\n",
              "    </tr>\n",
              "  </tbody>\n",
              "</table>\n",
              "</div>\n",
              "    <div class=\"colab-df-buttons\">\n",
              "      \n",
              "  <div class=\"colab-df-container\">\n",
              "    <button class=\"colab-df-convert\" onclick=\"convertToInteractive('df-3f45c859-3853-43d7-ab09-8264f76fc76f')\"\n",
              "            title=\"Convert this dataframe to an interactive table.\"\n",
              "            style=\"display:none;\">\n",
              "      \n",
              "  <svg xmlns=\"http://www.w3.org/2000/svg\" height=\"24px\" viewBox=\"0 -960 960 960\">\n",
              "    <path d=\"M120-120v-720h720v720H120Zm60-500h600v-160H180v160Zm220 220h160v-160H400v160Zm0 220h160v-160H400v160ZM180-400h160v-160H180v160Zm440 0h160v-160H620v160ZM180-180h160v-160H180v160Zm440 0h160v-160H620v160Z\"/>\n",
              "  </svg>\n",
              "    </button>\n",
              "    \n",
              "  <style>\n",
              "    .colab-df-container {\n",
              "      display:flex;\n",
              "      gap: 12px;\n",
              "    }\n",
              "\n",
              "    .colab-df-convert {\n",
              "      background-color: #E8F0FE;\n",
              "      border: none;\n",
              "      border-radius: 50%;\n",
              "      cursor: pointer;\n",
              "      display: none;\n",
              "      fill: #1967D2;\n",
              "      height: 32px;\n",
              "      padding: 0 0 0 0;\n",
              "      width: 32px;\n",
              "    }\n",
              "\n",
              "    .colab-df-convert:hover {\n",
              "      background-color: #E2EBFA;\n",
              "      box-shadow: 0px 1px 2px rgba(60, 64, 67, 0.3), 0px 1px 3px 1px rgba(60, 64, 67, 0.15);\n",
              "      fill: #174EA6;\n",
              "    }\n",
              "\n",
              "    .colab-df-buttons div {\n",
              "      margin-bottom: 4px;\n",
              "    }\n",
              "\n",
              "    [theme=dark] .colab-df-convert {\n",
              "      background-color: #3B4455;\n",
              "      fill: #D2E3FC;\n",
              "    }\n",
              "\n",
              "    [theme=dark] .colab-df-convert:hover {\n",
              "      background-color: #434B5C;\n",
              "      box-shadow: 0px 1px 3px 1px rgba(0, 0, 0, 0.15);\n",
              "      filter: drop-shadow(0px 1px 2px rgba(0, 0, 0, 0.3));\n",
              "      fill: #FFFFFF;\n",
              "    }\n",
              "  </style>\n",
              "\n",
              "    <script>\n",
              "      const buttonEl =\n",
              "        document.querySelector('#df-3f45c859-3853-43d7-ab09-8264f76fc76f button.colab-df-convert');\n",
              "      buttonEl.style.display =\n",
              "        google.colab.kernel.accessAllowed ? 'block' : 'none';\n",
              "\n",
              "      async function convertToInteractive(key) {\n",
              "        const element = document.querySelector('#df-3f45c859-3853-43d7-ab09-8264f76fc76f');\n",
              "        const dataTable =\n",
              "          await google.colab.kernel.invokeFunction('convertToInteractive',\n",
              "                                                    [key], {});\n",
              "        if (!dataTable) return;\n",
              "\n",
              "        const docLinkHtml = 'Like what you see? Visit the ' +\n",
              "          '<a target=\"_blank\" href=https://colab.research.google.com/notebooks/data_table.ipynb>data table notebook</a>'\n",
              "          + ' to learn more about interactive tables.';\n",
              "        element.innerHTML = '';\n",
              "        dataTable['output_type'] = 'display_data';\n",
              "        await google.colab.output.renderOutput(dataTable, element);\n",
              "        const docLink = document.createElement('div');\n",
              "        docLink.innerHTML = docLinkHtml;\n",
              "        element.appendChild(docLink);\n",
              "      }\n",
              "    </script>\n",
              "  </div>\n",
              "  \n",
              "    </div>\n",
              "  </div>\n",
              "  "
            ],
            "application/vnd.google.colaboratory.intrinsic+json": {
              "type": "dataframe",
              "variable_name": "vaders",
              "summary": "{\n  \"name\": \"vaders\",\n  \"rows\": 50,\n  \"fields\": [\n    {\n      \"column\": \"neg\",\n      \"properties\": {\n        \"dtype\": \"number\",\n        \"std\": 0.05891341276892413,\n        \"min\": 0.016,\n        \"max\": 0.24,\n        \"num_unique_values\": 48,\n        \"samples\": [\n          0.158,\n          0.144,\n          0.24\n        ],\n        \"semantic_type\": \"\",\n        \"description\": \"\"\n      }\n    },\n    {\n      \"column\": \"neu\",\n      \"properties\": {\n        \"dtype\": \"number\",\n        \"std\": 0.0705877627135041,\n        \"min\": 0.531,\n        \"max\": 0.917,\n        \"num_unique_values\": 45,\n        \"samples\": [\n          0.814,\n          0.672,\n          0.583\n        ],\n        \"semantic_type\": \"\",\n        \"description\": \"\"\n      }\n    },\n    {\n      \"column\": \"pos\",\n      \"properties\": {\n        \"dtype\": \"number\",\n        \"std\": 0.0623464350158345,\n        \"min\": 0.029,\n        \"max\": 0.375,\n        \"num_unique_values\": 47,\n        \"samples\": [\n          0.097,\n          0.124,\n          0.177\n        ],\n        \"semantic_type\": \"\",\n        \"description\": \"\"\n      }\n    },\n    {\n      \"column\": \"compound\",\n      \"properties\": {\n        \"dtype\": \"number\",\n        \"std\": 0.831975957975337,\n        \"min\": -0.9951,\n        \"max\": 0.9971,\n        \"num_unique_values\": 50,\n        \"samples\": [\n          0.3425,\n          0.9797,\n          -0.9907\n        ],\n        \"semantic_type\": \"\",\n        \"description\": \"\"\n      }\n    },\n    {\n      \"column\": \"review\",\n      \"properties\": {\n        \"dtype\": \"string\",\n        \"num_unique_values\": 50,\n        \"samples\": [\n          \"The cast played Shakespeare.<br /><br />Shakespeare lost.<br /><br />I appreciate that this is trying to bring Shakespeare to the masses, but why ruin something so good.<br /><br />Is it because 'The Scottish Play' is my favorite Shakespeare? I do not know. What I do know is that a certain Rev Bowdler (hence bowdlerization) tried to do something similar in the Victorian era.<br /><br />In other words, you cannot improve perfection.<br /><br />I have no more to write but as I have to write at least ten lines of text (and English composition was never my forte I will just have to keep going and say that this movie, as the saying goes, just does not cut it.\",\n          \"After sitting through this pile of dung, my husband and I wondered whether it was actually the product of an experiment to see whether a computer program could produce a movie. It was that listless and formulaic. But the U.S. propaganda thrown in your face throughout the film proves--disappointingly--that it's the work of humans. Call me a conspiracy theorist, but quotes like, \\\"We have to steal the Declaration of Independence to protect it\\\" seem like ways to justify actions like the invasion of Iraq, etc. The fact that Nicholas Cage spews lines like, \\\"I would never use the Declaration of Independence as a bargaining chip\\\" with a straight face made me and my husband wonder whether the entire cast took Valium before shooting each scene. The \\\"reasoning\\\" behind each plot turn and new \\\"clue\\\" is truly ridiculous and impossible to follow. And there's also a bonus side plot of misogyny, with Dr. Whatever-Her-Name-Was being chided by all involved for \\\"never shutting up.\\\" She's clearly in the movie only for looks, but they felt the need to slap a \\\"Dr.\\\" title on her character to give her some gravity. At one point, Cage's character says, \\\"Don't you ever shut up?\\\" and the camera pans to her looking poutily down at her hands, like she's a child. Truly grotesque. The only benefit to this movie was that it's so astonishingly bad, you do get a few laughs out of it. The really scary thing is that a majority of the people watching the movie with us seemed to enjoy it. Creepy....\",\n          \"Taut and organically gripping, Edward Dmytryk's Crossfire is a distinctive suspense thriller, an unlikely \\\"message\\\" movie using the look and devices of the noir cycle.<br /><br />Bivouacked in Washington, DC, a company of soldiers cope with their restlessness by hanging out in bars. Three of them end up at a stranger's apartment where Robert Ryan, drunk and belligerent, beats their host (Sam Levene) to death because he happens to be Jewish. Police detective Robert Young investigates with the help of Robert Mitchum, who's assigned to Ryan's outfit. Suspicion falls on the second of the three (George Cooper), who has vanished. Ryan slays the third buddy (Steve Brodie) to insure his silence before Young closes in.<br /><br />Abetted by a superior script by John Paxton, Dmytryk draws precise performances from his three starring Bobs. Ryan, naturally, does his prototypical Angry White Male (and to the hilt), while Mitchum underplays with his characteristic alert nonchalance (his role, however, is not central); Young may never have been better. Gloria Grahame gives her first fully-fledged rendition of the smart-mouthed, vulnerable tramp, and, as a sad sack who's leeched into her life, Paul Kelly haunts us in a small, peripheral role that he makes memorable.<br /><br />The politically engaged Dmytryk perhaps inevitably succumbs to sermonizing, but it's pretty much confined to Young's reminiscence of how his Irish grandfather died at the hands of bigots a century earlier (thus, incidentally, stretching chronology to the limit). At least there's no attempt to render an explanation, however glib, of why Ryan hates Jews (and hillbillies and...).<br /><br />Curiously, Crossfire survives even the major change wrought upon it -- the novel it's based on (Richard Brooks' The Brick Foxhole) dealt with a gay-bashing murder. But homosexuality in 1947 was still Beyond The Pale. News of the Holocaust had, however, begun to emerge from the ashes of Europe, so Hollywood felt emboldened to register its protest against anti-Semitism (the studios always quaked at the prospect of offending any potential ticket buyer).<br /><br />But while the change from homophobia to anti-Semitism works in general, the specifics don't fit so smoothly. The victim's chatting up a lonesome, drunk young soldier then inviting him back home looks odd, even though (or especially since) there's a girlfriend in tow. It raises the question whether this scenario was retained inadvertently or left in as a discreet tip-off to the original engine generating Ryan's murderous rage.\"\n        ],\n        \"semantic_type\": \"\",\n        \"description\": \"\"\n      }\n    },\n    {\n      \"column\": \"sentiment\",\n      \"properties\": {\n        \"dtype\": \"category\",\n        \"num_unique_values\": 2,\n        \"samples\": [\n          \"negative\",\n          \"positive\"\n        ],\n        \"semantic_type\": \"\",\n        \"description\": \"\"\n      }\n    }\n  ]\n}"
            }
          },
          "metadata": {},
          "execution_count": 65
        }
      ],
      "source": [
        "# convert results to df\n",
        "vaders = pd.DataFrame(result).T\n",
        "\n",
        "# merge scores with df\n",
        "vaders = vaders.merge(df, how='left', left_index=True, right_index=True)\n",
        "vaders.head()"
      ]
    },
    {
      "cell_type": "markdown",
      "metadata": {
        "id": "Rdb2Oaii7KBc"
      },
      "source": [
        "### Plot VADER results"
      ]
    },
    {
      "cell_type": "code",
      "execution_count": 66,
      "metadata": {
        "colab": {
          "base_uri": "https://localhost:8080/",
          "height": 472
        },
        "id": "UoH-DZtu7KBc",
        "outputId": "8470a542-e42a-4849-c514-c276ad15ae1b"
      },
      "outputs": [
        {
          "output_type": "display_data",
          "data": {
            "text/plain": [
              "<Figure size 640x480 with 1 Axes>"
            ],
            "image/png": "[encoded data removed]"
          },
          "metadata": {}
        }
      ],
      "source": [
        "import seaborn as sns\n",
        "import matplotlib.pyplot as plt\n",
        "\n",
        "ax = sns.barplot(data=vaders, x='sentiment', y='compound')\n",
        "ax.set_title('Compound score by Sentiment')\n",
        "plt.show()"
      ]
    },
    {
      "cell_type": "code",
      "execution_count": 67,
      "metadata": {
        "colab": {
          "base_uri": "https://localhost:8080/",
          "height": 224
        },
        "id": "ebHyA4wm7KBc",
        "outputId": "c1a84290-1baf-4225-b8db-134a3186c358"
      },
      "outputs": [
        {
          "output_type": "display_data",
          "data": {
            "text/plain": [
              "<Figure size 1500x500 with 3 Axes>"
            ],
            "image/png": "[encoded data removed]"
          },
          "metadata": {}
        }
      ],
      "source": [
        "fig, axs = plt.subplots(1, 3, figsize=(15,5))\n",
        "sns.barplot(data=vaders, x='sentiment', y='pos', ax=axs[0])\n",
        "sns.barplot(data=vaders, x='sentiment', y='neu', ax=axs[1])\n",
        "sns.barplot(data=vaders, x='sentiment', y='neg', ax=axs[2])\n",
        "axs[0].set_title('Positive')\n",
        "axs[1].set_title('Neutral')\n",
        "axs[2].set_title('Negative')\n",
        "plt.tight_layout()\n",
        "plt.show()"
      ]
    },
    {
      "cell_type": "markdown",
      "metadata": {
        "id": "BOCRJwzm7KBc"
      },
      "source": [
        "## RoBERTa sentiment Analysis"
      ]
    },
    {
      "cell_type": "code",
      "execution_count": 68,
      "metadata": {
        "id": "VbXeGzfA7KBc"
      },
      "outputs": [],
      "source": [
        "from transformers import AutoTokenizer\n",
        "from transformers import AutoModelForSequenceClassification\n",
        "from scipy.special import softmax\n",
        "import torch"
      ]
    },
    {
      "cell_type": "code",
      "execution_count": 69,
      "metadata": {
        "id": "-wW6OEVE7KBc"
      },
      "outputs": [],
      "source": [
        "#HuggingFace model that has already been trained on twitter data for sentiment analysis\n",
        "MODEL = \"cardiffnlp/twitter-roberta-base-sentiment\"\n",
        "tokenizer = AutoTokenizer.from_pretrained(MODEL)\n",
        "model = AutoModelForSequenceClassification.from_pretrained(MODEL)"
      ]
    },
    {
      "cell_type": "code",
      "execution_count": 70,
      "metadata": {
        "id": "toNVXoSy7KBc"
      },
      "outputs": [],
      "source": [
        "def polarity_scores_roberta(example):\n",
        "  # Run for Roberta Model\n",
        "  encoded_text = tokenizer(example, return_tensors='pt') # converts text to 1/0 for model to understand\n",
        "  # print(encoded_text)\n",
        "  output = model(**encoded_text)\n",
        "  scores = output[0][0].detach().numpy() # convert from tensor to numpy to store locally\n",
        "  scores = softmax(scores)\n",
        "  # dictionary to store values\n",
        "  scores_dict = {\n",
        "      'roberta_neg' : scores[0],\n",
        "      'roberta_neu' : scores[1],\n",
        "      'roberta_pos' : scores[2]\n",
        "  }\n",
        "  return scores_dict"
      ]
    },
    {
      "cell_type": "code",
      "source": [
        "result = {}\n",
        "for i, row in tqdm(df.iterrows(), total=len(df)):\n",
        "    try:\n",
        "      text = row['review']\n",
        "      vader_result = sia.polarity_scores(text)\n",
        "\n",
        "      vader_result_rename = {}\n",
        "      for key, value in vader_result.items():\n",
        "        vader_result_rename[f\"vader_{key}\"] = value\n",
        "\n",
        "      roberta_result = polarity_scores_roberta(text)\n",
        "      both = {**vader_result_rename, **roberta_result}\n",
        "      result[i] = both\n",
        "    except RuntimeError:\n",
        "      print(f'Broke for row {i}')"
      ],
      "metadata": {
        "colab": {
          "base_uri": "https://localhost:8080/",
          "height": 153,
          "referenced_widgets": [
            "101b7344a7054ac6b29af7bd773544e3",
            "f6a07d1f4d13423eb04cdcd20298d973",
            "9ddc5b632bf143678a3f91129ff81b26",
            "6e6ec0e58af54ac9a34127471ce198b9",
            "73a0f14764de48fd9df8f4da7a3fe3a5",
            "9fc464607e2740cb983693ee21902a2f",
            "f4f57801ee0c43c49d7b40457aaac461",
            "e4b9910d30114e6c92c8138b5aac60d9",
            "cc951e2fef624979acc848cedd9746df",
            "b8802ac0484044af834d1762041e3d79",
            "213b6428b83941638e583b961e737b99"
          ]
        },
        "id": "aL9kJvmj8Ls6",
        "outputId": "bf79dcc1-bd7a-49a9-fb64-d8b24ef1152a"
      },
      "execution_count": 71,
      "outputs": [
        {
          "output_type": "display_data",
          "data": {
            "text/plain": [
              "  0%|          | 0/50 [00:00<?, ?it/s]"
            ],
            "application/vnd.jupyter.widget-view+json": {
              "version_major": 2,
              "version_minor": 0,
              "model_id": "101b7344a7054ac6b29af7bd773544e3"
            }
          },
          "metadata": {}
        },
        {
          "output_type": "stream",
          "name": "stdout",
          "text": [
            "Broke for row 12\n",
            "Broke for row 26\n",
            "Broke for row 29\n",
            "Broke for row 30\n",
            "Broke for row 33\n",
            "Broke for row 48\n"
          ]
        }
      ]
    },
    {
      "cell_type": "code",
      "source": [
        "# convert results to df\n",
        "results_df = pd.DataFrame(result).T\n",
        "\n",
        "# merge scores with df\n",
        "results_df = results_df.merge(df, how='left', left_index=True, right_index=True)\n",
        "results_df.head()"
      ],
      "metadata": {
        "colab": {
          "base_uri": "https://localhost:8080/",
          "height": 625
        },
        "id": "7CY8YFhE8oXA",
        "outputId": "40b66e04-f266-4c70-dc21-1d603b4ad346"
      },
      "execution_count": 72,
      "outputs": [
        {
          "output_type": "execute_result",
          "data": {
            "text/plain": [
              "   vader_neg  vader_neu  vader_pos  vader_compound  roberta_neg  roberta_neu  \\\n",
              "0      0.203      0.748      0.048         -0.9951     0.339792     0.462738   \n",
              "1      0.053      0.776      0.172          0.9641     0.004337     0.039048   \n",
              "2      0.094      0.714      0.192          0.9605     0.088475     0.263144   \n",
              "3      0.138      0.797      0.065         -0.9213     0.755117     0.211640   \n",
              "4      0.052      0.801      0.147          0.9744     0.024546     0.223598   \n",
              "\n",
              "   roberta_pos                                             review sentiment  \n",
              "0     0.197471  One of the other reviewers has mentioned that ...  positive  \n",
              "1     0.956615  A wonderful little production. <br /><br />The...  positive  \n",
              "2     0.648381  I thought this was a wonderful way to spend ti...  positive  \n",
              "3     0.033243  Basically there's a family where a little boy ...  negative  \n",
              "4     0.751856  Petter Mattei's \"Love in the Time of Money\" is...  positive  "
            ],
            "text/html": [
              "\n",
              "  <div id=\"df-21d4c65a-976b-41c4-962f-361fa4330c68\" class=\"colab-df-container\">\n",
              "    <div>\n",
              "<style scoped>\n",
              "    .dataframe tbody tr th:only-of-type {\n",
              "        vertical-align: middle;\n",
              "    }\n",
              "\n",
              "    .dataframe tbody tr th {\n",
              "        vertical-align: top;\n",
              "    }\n",
              "\n",
              "    .dataframe thead th {\n",
              "        text-align: right;\n",
              "    }\n",
              "</style>\n",
              "<table border=\"1\" class=\"dataframe\">\n",
              "  <thead>\n",
              "    <tr style=\"text-align: right;\">\n",
              "      <th></th>\n",
              "      <th>vader_neg</th>\n",
              "      <th>vader_neu</th>\n",
              "      <th>vader_pos</th>\n",
              "      <th>vader_compound</th>\n",
              "      <th>roberta_neg</th>\n",
              "      <th>roberta_neu</th>\n",
              "      <th>roberta_pos</th>\n",
              "      <th>review</th>\n",
              "      <th>sentiment</th>\n",
              "    </tr>\n",
              "  </thead>\n",
              "  <tbody>\n",
              "    <tr>\n",
              "      <th>0</th>\n",
              "      <td>0.203</td>\n",
              "      <td>0.748</td>\n",
              "      <td>0.048</td>\n",
              "      <td>-0.9951</td>\n",
              "      <td>0.339792</td>\n",
              "      <td>0.462738</td>\n",
              "      <td>0.197471</td>\n",
              "      <td>One of the other reviewers has mentioned that ...</td>\n",
              "      <td>positive</td>\n",
              "    </tr>\n",
              "    <tr>\n",
              "      <th>1</th>\n",
              "      <td>0.053</td>\n",
              "      <td>0.776</td>\n",
              "      <td>0.172</td>\n",
              "      <td>0.9641</td>\n",
              "      <td>0.004337</td>\n",
              "      <td>0.039048</td>\n",
              "      <td>0.956615</td>\n",
              "      <td>A wonderful little production. &lt;br /&gt;&lt;br /&gt;The...</td>\n",
              "      <td>positive</td>\n",
              "    </tr>\n",
              "    <tr>\n",
              "      <th>2</th>\n",
              "      <td>0.094</td>\n",
              "      <td>0.714</td>\n",
              "      <td>0.192</td>\n",
              "      <td>0.9605</td>\n",
              "      <td>0.088475</td>\n",
              "      <td>0.263144</td>\n",
              "      <td>0.648381</td>\n",
              "      <td>I thought this was a wonderful way to spend ti...</td>\n",
              "      <td>positive</td>\n",
              "    </tr>\n",
              "    <tr>\n",
              "      <th>3</th>\n",
              "      <td>0.138</td>\n",
              "      <td>0.797</td>\n",
              "      <td>0.065</td>\n",
              "      <td>-0.9213</td>\n",
              "      <td>0.755117</td>\n",
              "      <td>0.211640</td>\n",
              "      <td>0.033243</td>\n",
              "      <td>Basically there's a family where a little boy ...</td>\n",
              "      <td>negative</td>\n",
              "    </tr>\n",
              "    <tr>\n",
              "      <th>4</th>\n",
              "      <td>0.052</td>\n",
              "      <td>0.801</td>\n",
              "      <td>0.147</td>\n",
              "      <td>0.9744</td>\n",
              "      <td>0.024546</td>\n",
              "      <td>0.223598</td>\n",
              "      <td>0.751856</td>\n",
              "      <td>Petter Mattei's \"Love in the Time of Money\" is...</td>\n",
              "      <td>positive</td>\n",
              "    </tr>\n",
              "  </tbody>\n",
              "</table>\n",
              "</div>\n",
              "    <div class=\"colab-df-buttons\">\n",
              "      \n",
              "  <div class=\"colab-df-container\">\n",
              "    <button class=\"colab-df-convert\" onclick=\"convertToInteractive('df-21d4c65a-976b-41c4-962f-361fa4330c68')\"\n",
              "            title=\"Convert this dataframe to an interactive table.\"\n",
              "            style=\"display:none;\">\n",
              "      \n",
              "  <svg xmlns=\"http://www.w3.org/2000/svg\" height=\"24px\" viewBox=\"0 -960 960 960\">\n",
              "    <path d=\"M120-120v-720h720v720H120Zm60-500h600v-160H180v160Zm220 220h160v-160H400v160Zm0 220h160v-160H400v160ZM180-400h160v-160H180v160Zm440 0h160v-160H620v160ZM180-180h160v-160H180v160Zm440 0h160v-160H620v160Z\"/>\n",
              "  </svg>\n",
              "    </button>\n",
              "    \n",
              "  <style>\n",
              "    .colab-df-container {\n",
              "      display:flex;\n",
              "      gap: 12px;\n",
              "    }\n",
              "\n",
              "    .colab-df-convert {\n",
              "      background-color: #E8F0FE;\n",
              "      border: none;\n",
              "      border-radius: 50%;\n",
              "      cursor: pointer;\n",
              "      display: none;\n",
              "      fill: #1967D2;\n",
              "      height: 32px;\n",
              "      padding: 0 0 0 0;\n",
              "      width: 32px;\n",
              "    }\n",
              "\n",
              "    .colab-df-convert:hover {\n",
              "      background-color: #E2EBFA;\n",
              "      box-shadow: 0px 1px 2px rgba(60, 64, 67, 0.3), 0px 1px 3px 1px rgba(60, 64, 67, 0.15);\n",
              "      fill: #174EA6;\n",
              "    }\n",
              "\n",
              "    .colab-df-buttons div {\n",
              "      margin-bottom: 4px;\n",
              "    }\n",
              "\n",
              "    [theme=dark] .colab-df-convert {\n",
              "      background-color: #3B4455;\n",
              "      fill: #D2E3FC;\n",
              "    }\n",
              "\n",
              "    [theme=dark] .colab-df-convert:hover {\n",
              "      background-color: #434B5C;\n",
              "      box-shadow: 0px 1px 3px 1px rgba(0, 0, 0, 0.15);\n",
              "      filter: drop-shadow(0px 1px 2px rgba(0, 0, 0, 0.3));\n",
              "      fill: #FFFFFF;\n",
              "    }\n",
              "  </style>\n",
              "\n",
              "    <script>\n",
              "      const buttonEl =\n",
              "        document.querySelector('#df-21d4c65a-976b-41c4-962f-361fa4330c68 button.colab-df-convert');\n",
              "      buttonEl.style.display =\n",
              "        google.colab.kernel.accessAllowed ? 'block' : 'none';\n",
              "\n",
              "      async function convertToInteractive(key) {\n",
              "        const element = document.querySelector('#df-21d4c65a-976b-41c4-962f-361fa4330c68');\n",
              "        const dataTable =\n",
              "          await google.colab.kernel.invokeFunction('convertToInteractive',\n",
              "                                                    [key], {});\n",
              "        if (!dataTable) return;\n",
              "\n",
              "        const docLinkHtml = 'Like what you see? Visit the ' +\n",
              "          '<a target=\"_blank\" href=https://colab.research.google.com/notebooks/data_table.ipynb>data table notebook</a>'\n",
              "          + ' to learn more about interactive tables.';\n",
              "        element.innerHTML = '';\n",
              "        dataTable['output_type'] = 'display_data';\n",
              "        await google.colab.output.renderOutput(dataTable, element);\n",
              "        const docLink = document.createElement('div');\n",
              "        docLink.innerHTML = docLinkHtml;\n",
              "        element.appendChild(docLink);\n",
              "      }\n",
              "    </script>\n",
              "  </div>\n",
              "  \n",
              "    </div>\n",
              "  </div>\n",
              "  "
            ],
            "application/vnd.google.colaboratory.intrinsic+json": {
              "type": "dataframe",
              "variable_name": "results_df",
              "summary": "{\n  \"name\": \"results_df\",\n  \"rows\": 44,\n  \"fields\": [\n    {\n      \"column\": \"vader_neg\",\n      \"properties\": {\n        \"dtype\": \"number\",\n        \"std\": 0.060908467700576195,\n        \"min\": 0.016,\n        \"max\": 0.24,\n        \"num_unique_values\": 43,\n        \"samples\": [\n          0.046,\n          0.184,\n          0.24\n        ],\n        \"semantic_type\": \"\",\n        \"description\": \"\"\n      }\n    },\n    {\n      \"column\": \"vader_neu\",\n      \"properties\": {\n        \"dtype\": \"number\",\n        \"std\": 0.07389640483091489,\n        \"min\": 0.531,\n        \"max\": 0.917,\n        \"num_unique_values\": 42,\n        \"samples\": [\n          0.583,\n          0.713,\n          0.662\n        ],\n        \"semantic_type\": \"\",\n        \"description\": \"\"\n      }\n    },\n    {\n      \"column\": \"vader_pos\",\n      \"properties\": {\n        \"dtype\": \"number\",\n        \"std\": 0.06447942458259977,\n        \"min\": 0.029,\n        \"max\": 0.375,\n        \"num_unique_values\": 42,\n        \"samples\": [\n          0.177,\n          0.109,\n          0.375\n        ],\n        \"semantic_type\": \"\",\n        \"description\": \"\"\n      }\n    },\n    {\n      \"column\": \"vader_compound\",\n      \"properties\": {\n        \"dtype\": \"number\",\n        \"std\": 0.809573031962119,\n        \"min\": -0.9951,\n        \"max\": 0.9858,\n        \"num_unique_values\": 44,\n        \"samples\": [\n          -0.4678,\n          0.954,\n          -0.8481\n        ],\n        \"semantic_type\": \"\",\n        \"description\": \"\"\n      }\n    },\n    {\n      \"column\": \"roberta_neg\",\n      \"properties\": {\n        \"dtype\": \"number\",\n        \"std\": 0.3609419797084197,\n        \"min\": 0.003227990586310625,\n        \"max\": 0.9779350757598877,\n        \"num_unique_values\": 44,\n        \"samples\": [\n          0.8228243589401245,\n          0.06010116636753082,\n          0.837985098361969\n        ],\n        \"semantic_type\": \"\",\n        \"description\": \"\"\n      }\n    },\n    {\n      \"column\": \"roberta_neu\",\n      \"properties\": {\n        \"dtype\": \"number\",\n        \"std\": 0.15168604266563546,\n        \"min\": 0.0160521250218153,\n        \"max\": 0.5245275497436523,\n        \"num_unique_values\": 44,\n        \"samples\": [\n          0.15525877475738525,\n          0.2728113830089569,\n          0.14058467745780945\n        ],\n        \"semantic_type\": \"\",\n        \"description\": \"\"\n      }\n    },\n    {\n      \"column\": \"roberta_pos\",\n      \"properties\": {\n        \"dtype\": \"number\",\n        \"std\": 0.35153582912171155,\n        \"min\": 0.003136072074994445,\n        \"max\": 0.9806883335113525,\n        \"num_unique_values\": 44,\n        \"samples\": [\n          0.02191687375307083,\n          0.6670874357223511,\n          0.021430162712931633\n        ],\n        \"semantic_type\": \"\",\n        \"description\": \"\"\n      }\n    },\n    {\n      \"column\": \"review\",\n      \"properties\": {\n        \"dtype\": \"string\",\n        \"num_unique_values\": 44,\n        \"samples\": [\n          \"Of all the films I have seen, this one, The Rage, has got to be one of the worst yet. The direction, LOGIC, continuity, changes in plot-script and dialog made me cry out in pain. \\\"How could ANYONE come up with something so crappy\\\"? Gary Busey is know for his \\\"B\\\" movies, but this is a sure \\\"W\\\" movie. (W=waste).<br /><br />Take for example: about two dozen FBI & local law officers surround a trailer house with a jeep wagoneer. Inside the jeep is MA and is \\\"confused\\\" as to why all the cops are about. Within seconds a huge gun battle ensues, MA being killed straight off. The cops blast away at the jeep with gary and company blasting away at them. The cops fall like dominoes and the jeep with Gary drives around in circles and are not hit by one single bullet/pellet. MA is killed and gary seems to not to have noticed-damn that guy is tough. Truly a miracle, not since the six-shooter held 300 bullets has there been such a miracle.\",\n          \"The Karen Carpenter Story shows a little more about singer Karen Carpenter's complex life. Though it fails in giving accurate facts, and details.<br /><br />Cynthia Gibb (portrays Karen) was not a fine election. She is a good actress , but plays a very naive and sort of dumb Karen Carpenter. I think that the role needed a stronger character. Someone with a stronger personality.<br /><br />Louise Fletcher role as Agnes Carpenter is terrific, she does a great job as Karen's mother.<br /><br />It has great songs, which could have been included in a soundtrack album. Unfortunately they weren't, though this movie was on the top of the ratings in USA and other several countries\",\n          \"This film tried to be too many things all at once: stinging political satire, Hollywood blockbuster, sappy romantic comedy, family values promo... the list goes on and on. It failed miserably at all of them, but there was enough interest to keep me from turning it off until the end.<br /><br />Although I appreciate the spirit behind WAR, INC., it depresses me to see such a clumsy effort, especially when it will be taken by its targets to reflect the lack of the existence of a serious critique, rather than simply the poor writing, direction, and production of this particular film.<br /><br />There is a critique to be made about the corporatization of war. But poking fun at it in this way diminishes the true atrocity of what is happening. Reminds me a bit of THREE KINGS, which similarly trivializes a genuine cause for concern.\"\n        ],\n        \"semantic_type\": \"\",\n        \"description\": \"\"\n      }\n    },\n    {\n      \"column\": \"sentiment\",\n      \"properties\": {\n        \"dtype\": \"category\",\n        \"num_unique_values\": 2,\n        \"samples\": [\n          \"negative\",\n          \"positive\"\n        ],\n        \"semantic_type\": \"\",\n        \"description\": \"\"\n      }\n    }\n  ]\n}"
            }
          },
          "metadata": {},
          "execution_count": 72
        }
      ]
    },
    {
      "cell_type": "markdown",
      "source": [
        "## Transformers Pipeline"
      ],
      "metadata": {
        "id": "Ctpx8zDJ-ds6"
      }
    },
    {
      "cell_type": "code",
      "source": [
        "from transformers import pipeline\n",
        "\n",
        "sent_pipeline = pipeline(\"sentiment-analysis\")"
      ],
      "metadata": {
        "colab": {
          "base_uri": "https://localhost:8080/"
        },
        "id": "FIGAcQHp-i-Z",
        "outputId": "245f52bc-033c-41d9-bf75-7792f9e50fb2"
      },
      "execution_count": 73,
      "outputs": [
        {
          "output_type": "stream",
          "name": "stderr",
          "text": [
            "No model was supplied, defaulted to distilbert/distilbert-base-uncased-finetuned-sst-2-english and revision af0f99b (https://huggingface.co/distilbert/distilbert-base-uncased-finetuned-sst-2-english).\n",
            "Using a pipeline without specifying a model name and revision in production is not recommended.\n"
          ]
        }
      ]
    },
    {
      "cell_type": "code",
      "source": [
        "result = {}\n",
        "for i, row in tqdm(df.iterrows(), total=len(df)):\n",
        "    try:\n",
        "      text = row['review']\n",
        "      sentiment_analysis = sent_pipeline(text)\n",
        "      result[i] = sentiment_analysis[0]['label']\n",
        "\n",
        "    except RuntimeError:\n",
        "      print(f'Broke for row {i}')"
      ],
      "metadata": {
        "colab": {
          "base_uri": "https://localhost:8080/",
          "height": 208,
          "referenced_widgets": [
            "60c858ad30b649a5898ff254eb758732",
            "d88f860d69b549568416c5f722ddc422",
            "e631491ab8ff44289ce55419f735d517",
            "d7b8fa8bb8ad4854a80458b7fc4e40c0",
            "62c6a38873d649bd82788af5ffce7d36",
            "f5cfa573672b4740aa1d560cf71e1fe2",
            "77ffc6a6f2ef4d1abbcf435e242322a5",
            "badc2af90eb24e86ab1287b01d2fdd01",
            "78fe4897166f47288510b46732409316",
            "aa4c7640b1834270af1e5ca9373a4ba8",
            "49cdff877ee74327804b659e42109ffc"
          ]
        },
        "id": "oKltnLe3-pgu",
        "outputId": "2b789521-097b-4c45-979b-630672b03546"
      },
      "execution_count": 74,
      "outputs": [
        {
          "output_type": "display_data",
          "data": {
            "text/plain": [
              "  0%|          | 0/50 [00:00<?, ?it/s]"
            ],
            "application/vnd.jupyter.widget-view+json": {
              "version_major": 2,
              "version_minor": 0,
              "model_id": "60c858ad30b649a5898ff254eb758732"
            }
          },
          "metadata": {}
        },
        {
          "output_type": "stream",
          "name": "stderr",
          "text": [
            "Token indices sequence length is longer than the specified maximum sequence length for this model (563 > 512). Running this sequence through the model will result in indexing errors\n"
          ]
        },
        {
          "output_type": "stream",
          "name": "stdout",
          "text": [
            "Broke for row 12\n",
            "Broke for row 26\n",
            "Broke for row 29\n",
            "Broke for row 30\n",
            "Broke for row 33\n",
            "Broke for row 35\n",
            "Broke for row 48\n"
          ]
        }
      ]
    },
    {
      "cell_type": "code",
      "source": [
        "print(result)\n",
        "transformers_df = pd.Series(result).to_frame('transformer_sentiment_label')\n",
        "\n",
        "# transformers_df.head()\n",
        "# results_df.head()\n",
        "\n",
        "results_df = transformers_df.merge(results_df, how='left', left_index=True, right_index=True)\n",
        "results_df.head()"
      ],
      "metadata": {
        "colab": {
          "base_uri": "https://localhost:8080/",
          "height": 643
        },
        "id": "H68X3-aX_JYc",
        "outputId": "3780758f-8ba4-496f-a7e9-4fbbf826178e"
      },
      "execution_count": 76,
      "outputs": [
        {
          "output_type": "stream",
          "name": "stdout",
          "text": [
            "{0: 'NEGATIVE', 1: 'POSITIVE', 2: 'POSITIVE', 3: 'NEGATIVE', 4: 'POSITIVE', 5: 'POSITIVE', 6: 'POSITIVE', 7: 'NEGATIVE', 8: 'NEGATIVE', 9: 'POSITIVE', 10: 'NEGATIVE', 11: 'NEGATIVE', 13: 'NEGATIVE', 14: 'POSITIVE', 15: 'NEGATIVE', 16: 'NEGATIVE', 17: 'NEGATIVE', 18: 'NEGATIVE', 19: 'NEGATIVE', 20: 'POSITIVE', 21: 'NEGATIVE', 22: 'POSITIVE', 23: 'NEGATIVE', 24: 'NEGATIVE', 25: 'POSITIVE', 27: 'NEGATIVE', 28: 'NEGATIVE', 31: 'POSITIVE', 32: 'NEGATIVE', 34: 'NEGATIVE', 36: 'NEGATIVE', 37: 'NEGATIVE', 38: 'NEGATIVE', 39: 'NEGATIVE', 40: 'NEGATIVE', 41: 'POSITIVE', 42: 'NEGATIVE', 43: 'NEGATIVE', 44: 'NEGATIVE', 45: 'POSITIVE', 46: 'NEGATIVE', 47: 'NEGATIVE', 49: 'NEGATIVE'}\n"
          ]
        },
        {
          "output_type": "execute_result",
          "data": {
            "text/plain": [
              "  transformer_sentiment_label  vader_neg  vader_neu  vader_pos  \\\n",
              "0                    NEGATIVE      0.203      0.748      0.048   \n",
              "1                    POSITIVE      0.053      0.776      0.172   \n",
              "2                    POSITIVE      0.094      0.714      0.192   \n",
              "3                    NEGATIVE      0.138      0.797      0.065   \n",
              "4                    POSITIVE      0.052      0.801      0.147   \n",
              "\n",
              "   vader_compound  roberta_neg  roberta_neu  roberta_pos  \\\n",
              "0         -0.9951     0.339792     0.462738     0.197471   \n",
              "1          0.9641     0.004337     0.039048     0.956615   \n",
              "2          0.9605     0.088475     0.263144     0.648381   \n",
              "3         -0.9213     0.755117     0.211640     0.033243   \n",
              "4          0.9744     0.024546     0.223598     0.751856   \n",
              "\n",
              "                                              review sentiment  \n",
              "0  One of the other reviewers has mentioned that ...  positive  \n",
              "1  A wonderful little production. <br /><br />The...  positive  \n",
              "2  I thought this was a wonderful way to spend ti...  positive  \n",
              "3  Basically there's a family where a little boy ...  negative  \n",
              "4  Petter Mattei's \"Love in the Time of Money\" is...  positive  "
            ],
            "text/html": [
              "\n",
              "  <div id=\"df-00fd46b1-b14c-47b8-bd6b-1d7994e9b6dd\" class=\"colab-df-container\">\n",
              "    <div>\n",
              "<style scoped>\n",
              "    .dataframe tbody tr th:only-of-type {\n",
              "        vertical-align: middle;\n",
              "    }\n",
              "\n",
              "    .dataframe tbody tr th {\n",
              "        vertical-align: top;\n",
              "    }\n",
              "\n",
              "    .dataframe thead th {\n",
              "        text-align: right;\n",
              "    }\n",
              "</style>\n",
              "<table border=\"1\" class=\"dataframe\">\n",
              "  <thead>\n",
              "    <tr style=\"text-align: right;\">\n",
              "      <th></th>\n",
              "      <th>transformer_sentiment_label</th>\n",
              "      <th>vader_neg</th>\n",
              "      <th>vader_neu</th>\n",
              "      <th>vader_pos</th>\n",
              "      <th>vader_compound</th>\n",
              "      <th>roberta_neg</th>\n",
              "      <th>roberta_neu</th>\n",
              "      <th>roberta_pos</th>\n",
              "      <th>review</th>\n",
              "      <th>sentiment</th>\n",
              "    </tr>\n",
              "  </thead>\n",
              "  <tbody>\n",
              "    <tr>\n",
              "      <th>0</th>\n",
              "      <td>NEGATIVE</td>\n",
              "      <td>0.203</td>\n",
              "      <td>0.748</td>\n",
              "      <td>0.048</td>\n",
              "      <td>-0.9951</td>\n",
              "      <td>0.339792</td>\n",
              "      <td>0.462738</td>\n",
              "      <td>0.197471</td>\n",
              "      <td>One of the other reviewers has mentioned that ...</td>\n",
              "      <td>positive</td>\n",
              "    </tr>\n",
              "    <tr>\n",
              "      <th>1</th>\n",
              "      <td>POSITIVE</td>\n",
              "      <td>0.053</td>\n",
              "      <td>0.776</td>\n",
              "      <td>0.172</td>\n",
              "      <td>0.9641</td>\n",
              "      <td>0.004337</td>\n",
              "      <td>0.039048</td>\n",
              "      <td>0.956615</td>\n",
              "      <td>A wonderful little production. &lt;br /&gt;&lt;br /&gt;The...</td>\n",
              "      <td>positive</td>\n",
              "    </tr>\n",
              "    <tr>\n",
              "      <th>2</th>\n",
              "      <td>POSITIVE</td>\n",
              "      <td>0.094</td>\n",
              "      <td>0.714</td>\n",
              "      <td>0.192</td>\n",
              "      <td>0.9605</td>\n",
              "      <td>0.088475</td>\n",
              "      <td>0.263144</td>\n",
              "      <td>0.648381</td>\n",
              "      <td>I thought this was a wonderful way to spend ti...</td>\n",
              "      <td>positive</td>\n",
              "    </tr>\n",
              "    <tr>\n",
              "      <th>3</th>\n",
              "      <td>NEGATIVE</td>\n",
              "      <td>0.138</td>\n",
              "      <td>0.797</td>\n",
              "      <td>0.065</td>\n",
              "      <td>-0.9213</td>\n",
              "      <td>0.755117</td>\n",
              "      <td>0.211640</td>\n",
              "      <td>0.033243</td>\n",
              "      <td>Basically there's a family where a little boy ...</td>\n",
              "      <td>negative</td>\n",
              "    </tr>\n",
              "    <tr>\n",
              "      <th>4</th>\n",
              "      <td>POSITIVE</td>\n",
              "      <td>0.052</td>\n",
              "      <td>0.801</td>\n",
              "      <td>0.147</td>\n",
              "      <td>0.9744</td>\n",
              "      <td>0.024546</td>\n",
              "      <td>0.223598</td>\n",
              "      <td>0.751856</td>\n",
              "      <td>Petter Mattei's \"Love in the Time of Money\" is...</td>\n",
              "      <td>positive</td>\n",
              "    </tr>\n",
              "  </tbody>\n",
              "</table>\n",
              "</div>\n",
              "    <div class=\"colab-df-buttons\">\n",
              "      \n",
              "  <div class=\"colab-df-container\">\n",
              "    <button class=\"colab-df-convert\" onclick=\"convertToInteractive('df-00fd46b1-b14c-47b8-bd6b-1d7994e9b6dd')\"\n",
              "            title=\"Convert this dataframe to an interactive table.\"\n",
              "            style=\"display:none;\">\n",
              "      \n",
              "  <svg xmlns=\"http://www.w3.org/2000/svg\" height=\"24px\" viewBox=\"0 -960 960 960\">\n",
              "    <path d=\"M120-120v-720h720v720H120Zm60-500h600v-160H180v160Zm220 220h160v-160H400v160Zm0 220h160v-160H400v160ZM180-400h160v-160H180v160Zm440 0h160v-160H620v160ZM180-180h160v-160H180v160Zm440 0h160v-160H620v160Z\"/>\n",
              "  </svg>\n",
              "    </button>\n",
              "    \n",
              "  <style>\n",
              "    .colab-df-container {\n",
              "      display:flex;\n",
              "      gap: 12px;\n",
              "    }\n",
              "\n",
              "    .colab-df-convert {\n",
              "      background-color: #E8F0FE;\n",
              "      border: none;\n",
              "      border-radius: 50%;\n",
              "      cursor: pointer;\n",
              "      display: none;\n",
              "      fill: #1967D2;\n",
              "      height: 32px;\n",
              "      padding: 0 0 0 0;\n",
              "      width: 32px;\n",
              "    }\n",
              "\n",
              "    .colab-df-convert:hover {\n",
              "      background-color: #E2EBFA;\n",
              "      box-shadow: 0px 1px 2px rgba(60, 64, 67, 0.3), 0px 1px 3px 1px rgba(60, 64, 67, 0.15);\n",
              "      fill: #174EA6;\n",
              "    }\n",
              "\n",
              "    .colab-df-buttons div {\n",
              "      margin-bottom: 4px;\n",
              "    }\n",
              "\n",
              "    [theme=dark] .colab-df-convert {\n",
              "      background-color: #3B4455;\n",
              "      fill: #D2E3FC;\n",
              "    }\n",
              "\n",
              "    [theme=dark] .colab-df-convert:hover {\n",
              "      background-color: #434B5C;\n",
              "      box-shadow: 0px 1px 3px 1px rgba(0, 0, 0, 0.15);\n",
              "      filter: drop-shadow(0px 1px 2px rgba(0, 0, 0, 0.3));\n",
              "      fill: #FFFFFF;\n",
              "    }\n",
              "  </style>\n",
              "\n",
              "    <script>\n",
              "      const buttonEl =\n",
              "        document.querySelector('#df-00fd46b1-b14c-47b8-bd6b-1d7994e9b6dd button.colab-df-convert');\n",
              "      buttonEl.style.display =\n",
              "        google.colab.kernel.accessAllowed ? 'block' : 'none';\n",
              "\n",
              "      async function convertToInteractive(key) {\n",
              "        const element = document.querySelector('#df-00fd46b1-b14c-47b8-bd6b-1d7994e9b6dd');\n",
              "        const dataTable =\n",
              "          await google.colab.kernel.invokeFunction('convertToInteractive',\n",
              "                                                    [key], {});\n",
              "        if (!dataTable) return;\n",
              "\n",
              "        const docLinkHtml = 'Like what you see? Visit the ' +\n",
              "          '<a target=\"_blank\" href=https://colab.research.google.com/notebooks/data_table.ipynb>data table notebook</a>'\n",
              "          + ' to learn more about interactive tables.';\n",
              "        element.innerHTML = '';\n",
              "        dataTable['output_type'] = 'display_data';\n",
              "        await google.colab.output.renderOutput(dataTable, element);\n",
              "        const docLink = document.createElement('div');\n",
              "        docLink.innerHTML = docLinkHtml;\n",
              "        element.appendChild(docLink);\n",
              "      }\n",
              "    </script>\n",
              "  </div>\n",
              "  \n",
              "    </div>\n",
              "  </div>\n",
              "  "
            ],
            "application/vnd.google.colaboratory.intrinsic+json": {
              "type": "dataframe",
              "variable_name": "results_df",
              "summary": "{\n  \"name\": \"results_df\",\n  \"rows\": 43,\n  \"fields\": [\n    {\n      \"column\": \"transformer_sentiment_label\",\n      \"properties\": {\n        \"dtype\": \"category\",\n        \"num_unique_values\": 2,\n        \"samples\": [\n          \"POSITIVE\",\n          \"NEGATIVE\"\n        ],\n        \"semantic_type\": \"\",\n        \"description\": \"\"\n      }\n    },\n    {\n      \"column\": \"vader_neg\",\n      \"properties\": {\n        \"dtype\": \"number\",\n        \"std\": 0.06154093614583244,\n        \"min\": 0.016,\n        \"max\": 0.24,\n        \"num_unique_values\": 42,\n        \"samples\": [\n          0.24,\n          0.145\n        ],\n        \"semantic_type\": \"\",\n        \"description\": \"\"\n      }\n    },\n    {\n      \"column\": \"vader_neu\",\n      \"properties\": {\n        \"dtype\": \"number\",\n        \"std\": 0.07474694851492174,\n        \"min\": 0.531,\n        \"max\": 0.917,\n        \"num_unique_values\": 41,\n        \"samples\": [\n          0.672,\n          0.713\n        ],\n        \"semantic_type\": \"\",\n        \"description\": \"\"\n      }\n    },\n    {\n      \"column\": \"vader_pos\",\n      \"properties\": {\n        \"dtype\": \"number\",\n        \"std\": 0.06503378455847225,\n        \"min\": 0.029,\n        \"max\": 0.375,\n        \"num_unique_values\": 41,\n        \"samples\": [\n          0.144,\n          0.109\n        ],\n        \"semantic_type\": \"\",\n        \"description\": \"\"\n      }\n    },\n    {\n      \"column\": \"vader_compound\",\n      \"properties\": {\n        \"dtype\": \"number\",\n        \"std\": 0.7991757841454924,\n        \"min\": -0.9951,\n        \"max\": 0.9858,\n        \"num_unique_values\": 43,\n        \"samples\": [\n          0.9818,\n          0.954\n        ],\n        \"semantic_type\": \"\",\n        \"description\": \"\"\n      }\n    },\n    {\n      \"column\": \"roberta_neg\",\n      \"properties\": {\n        \"dtype\": \"number\",\n        \"std\": 0.36498507055410717,\n        \"min\": 0.003227990586310625,\n        \"max\": 0.9779350757598877,\n        \"num_unique_values\": 43,\n        \"samples\": [\n          0.718529999256134,\n          0.06010116636753082\n        ],\n        \"semantic_type\": \"\",\n        \"description\": \"\"\n      }\n    },\n    {\n      \"column\": \"roberta_neu\",\n      \"properties\": {\n        \"dtype\": \"number\",\n        \"std\": 0.1519093757980576,\n        \"min\": 0.0160521250218153,\n        \"max\": 0.5245275497436523,\n        \"num_unique_values\": 43,\n        \"samples\": [\n          0.23779062926769257,\n          0.2728113830089569\n        ],\n        \"semantic_type\": \"\",\n        \"description\": \"\"\n      }\n    },\n    {\n      \"column\": \"roberta_pos\",\n      \"properties\": {\n        \"dtype\": \"number\",\n        \"std\": 0.35398694468471387,\n        \"min\": 0.003136072074994445,\n        \"max\": 0.9806883335113525,\n        \"num_unique_values\": 43,\n        \"samples\": [\n          0.04367933049798012,\n          0.6670874357223511\n        ],\n        \"semantic_type\": \"\",\n        \"description\": \"\"\n      }\n    },\n    {\n      \"column\": \"review\",\n      \"properties\": {\n        \"dtype\": \"string\",\n        \"num_unique_values\": 43,\n        \"samples\": [\n          \"I had heard good things about \\\"States of Grace\\\" and came in with an open mind. I thought that \\\"God's Army\\\" was okay, and I thought that maybe Dutcher had improved and matured as a filmmaker. The film began with some shaky acting, and I thought, \\\"well, maybe it will get better.\\\" Unfortunately, it never did. The picture starts out by introducing two elders -- Mormon missionaries -- and it seems that the audience will get to know them and grow to care about them. Instead, the story degenerates into a highly improbable series of unfortunate events highlighting blatant disobedience by the missionaries (something that undeniably exists, but rarely on the level that Dutcher portrays) and it becomes almost laughable.<br /><br />Dutcher's only success in this movie is his successful alienation of his target audience. By unrealistically and inaccurately portraying the lives of Mormon missionaries, Dutcher accomplishes nothing more than angering his predominantly Mormon audience. The film in no way reflects reality. Missions are nothing like what Dutcher shows (having served a Mormon mission myself I can attest to this fact) and gang life in California certainly contains much more explicit language than the occasional mild vulgarity.<br /><br />The conclusion, which I'm assuming was supposed to touch the audience and inspire them to believe that forgiveness is available to all, was both unbelievable (c'mon, the entire mission gathers to see this elder sent home -- and the mom and the girl are standing right next to each other!) and cheesy. Next time, Dutcher, try making a movie that SOMEONE can identify with.\",\n          \"The Karen Carpenter Story shows a little more about singer Karen Carpenter's complex life. Though it fails in giving accurate facts, and details.<br /><br />Cynthia Gibb (portrays Karen) was not a fine election. She is a good actress , but plays a very naive and sort of dumb Karen Carpenter. I think that the role needed a stronger character. Someone with a stronger personality.<br /><br />Louise Fletcher role as Agnes Carpenter is terrific, she does a great job as Karen's mother.<br /><br />It has great songs, which could have been included in a soundtrack album. Unfortunately they weren't, though this movie was on the top of the ratings in USA and other several countries\"\n        ],\n        \"semantic_type\": \"\",\n        \"description\": \"\"\n      }\n    },\n    {\n      \"column\": \"sentiment\",\n      \"properties\": {\n        \"dtype\": \"category\",\n        \"num_unique_values\": 2,\n        \"samples\": [\n          \"negative\",\n          \"positive\"\n        ],\n        \"semantic_type\": \"\",\n        \"description\": \"\"\n      }\n    }\n  ]\n}"
            }
          },
          "metadata": {},
          "execution_count": 76
        }
      ]
    },
    {
      "cell_type": "markdown",
      "source": [
        "## Comparing Results"
      ],
      "metadata": {
        "id": "AU5o_Jis-Z10"
      }
    }
  ],
  "metadata": {
    "kernelspec": {
      "display_name": "base",
      "language": "python",
      "name": "python3"
    },
    "language_info": {
      "codemirror_mode": {
        "name": "ipython",
        "version": 3
      },
      "file_extension": ".py",
      "mimetype": "text/x-python",
      "name": "python",
      "nbconvert_exporter": "python",
      "pygments_lexer": "ipython3",
      "version": "3.9.7"
    },
    "colab": {
      "provenance": [],
      "toc_visible": true
    },
    "widgets": {
      "application/vnd.jupyter.widget-state+json": {
        "92a0ce0734a044a19dd645a2065ae2d6": {
          "model_module": "@jupyter-widgets/controls",
          "model_name": "HBoxModel",
          "model_module_version": "1.5.0",
          "state": {
            "_dom_classes": [],
            "_model_module": "@jupyter-widgets/controls",
            "_model_module_version": "1.5.0",
            "_model_name": "HBoxModel",
            "_view_count": null,
            "_view_module": "@jupyter-widgets/controls",
            "_view_module_version": "1.5.0",
            "_view_name": "HBoxView",
            "box_style": "",
            "children": [
              "IPY_MODEL_90ef8215c3ec499a823e5a6eaceb296d",
              "IPY_MODEL_b94d41c62f1c453ebdb9a1fa4e201433",
              "IPY_MODEL_5613ec38b3f14e25bef50863638613fd"
            ],
            "layout": "IPY_MODEL_1d05140e2d3c4aeeb501265c5a445c7a"
          }
        },
        "90ef8215c3ec499a823e5a6eaceb296d": {
          "model_module": "@jupyter-widgets/controls",
          "model_name": "HTMLModel",
          "model_module_version": "1.5.0",
          "state": {
            "_dom_classes": [],
            "_model_module": "@jupyter-widgets/controls",
            "_model_module_version": "1.5.0",
            "_model_name": "HTMLModel",
            "_view_count": null,
            "_view_module": "@jupyter-widgets/controls",
            "_view_module_version": "1.5.0",
            "_view_name": "HTMLView",
            "description": "",
            "description_tooltip": null,
            "layout": "IPY_MODEL_41161c3a1c414e6280acf700389cb0fd",
            "placeholder": "​",
            "style": "IPY_MODEL_a7bb6873beca4069bca0da691984e42c",
            "value": "100%"
          }
        },
        "b94d41c62f1c453ebdb9a1fa4e201433": {
          "model_module": "@jupyter-widgets/controls",
          "model_name": "FloatProgressModel",
          "model_module_version": "1.5.0",
          "state": {
            "_dom_classes": [],
            "_model_module": "@jupyter-widgets/controls",
            "_model_module_version": "1.5.0",
            "_model_name": "FloatProgressModel",
            "_view_count": null,
            "_view_module": "@jupyter-widgets/controls",
            "_view_module_version": "1.5.0",
            "_view_name": "ProgressView",
            "bar_style": "success",
            "description": "",
            "description_tooltip": null,
            "layout": "IPY_MODEL_ec40a16cd59949d996e58b4352faf2f3",
            "max": 50,
            "min": 0,
            "orientation": "horizontal",
            "style": "IPY_MODEL_c6ef543857aa4751924463faeccc5a28",
            "value": 50
          }
        },
        "5613ec38b3f14e25bef50863638613fd": {
          "model_module": "@jupyter-widgets/controls",
          "model_name": "HTMLModel",
          "model_module_version": "1.5.0",
          "state": {
            "_dom_classes": [],
            "_model_module": "@jupyter-widgets/controls",
            "_model_module_version": "1.5.0",
            "_model_name": "HTMLModel",
            "_view_count": null,
            "_view_module": "@jupyter-widgets/controls",
            "_view_module_version": "1.5.0",
            "_view_name": "HTMLView",
            "description": "",
            "description_tooltip": null,
            "layout": "IPY_MODEL_23ff467a5fd345debb1fbec60682babf",
            "placeholder": "​",
            "style": "IPY_MODEL_7d5eba8c4de14a8e834fda3357951983",
            "value": " 50/50 [00:00&lt;00:00, 146.35it/s]"
          }
        },
        "1d05140e2d3c4aeeb501265c5a445c7a": {
          "model_module": "@jupyter-widgets/base",
          "model_name": "LayoutModel",
          "model_module_version": "1.2.0",
          "state": {
            "_model_module": "@jupyter-widgets/base",
            "_model_module_version": "1.2.0",
            "_model_name": "LayoutModel",
            "_view_count": null,
            "_view_module": "@jupyter-widgets/base",
            "_view_module_version": "1.2.0",
            "_view_name": "LayoutView",
            "align_content": null,
            "align_items": null,
            "align_self": null,
            "border": null,
            "bottom": null,
            "display": null,
            "flex": null,
            "flex_flow": null,
            "grid_area": null,
            "grid_auto_columns": null,
            "grid_auto_flow": null,
            "grid_auto_rows": null,
            "grid_column": null,
            "grid_gap": null,
            "grid_row": null,
            "grid_template_areas": null,
            "grid_template_columns": null,
            "grid_template_rows": null,
            "height": null,
            "justify_content": null,
            "justify_items": null,
            "left": null,
            "margin": null,
            "max_height": null,
            "max_width": null,
            "min_height": null,
            "min_width": null,
            "object_fit": null,
            "object_position": null,
            "order": null,
            "overflow": null,
            "overflow_x": null,
            "overflow_y": null,
            "padding": null,
            "right": null,
            "top": null,
            "visibility": null,
            "width": null
          }
        },
        "41161c3a1c414e6280acf700389cb0fd": {
          "model_module": "@jupyter-widgets/base",
          "model_name": "LayoutModel",
          "model_module_version": "1.2.0",
          "state": {
            "_model_module": "@jupyter-widgets/base",
            "_model_module_version": "1.2.0",
            "_model_name": "LayoutModel",
            "_view_count": null,
            "_view_module": "@jupyter-widgets/base",
            "_view_module_version": "1.2.0",
            "_view_name": "LayoutView",
            "align_content": null,
            "align_items": null,
            "align_self": null,
            "border": null,
            "bottom": null,
            "display": null,
            "flex": null,
            "flex_flow": null,
            "grid_area": null,
            "grid_auto_columns": null,
            "grid_auto_flow": null,
            "grid_auto_rows": null,
            "grid_column": null,
            "grid_gap": null,
            "grid_row": null,
            "grid_template_areas": null,
            "grid_template_columns": null,
            "grid_template_rows": null,
            "height": null,
            "justify_content": null,
            "justify_items": null,
            "left": null,
            "margin": null,
            "max_height": null,
            "max_width": null,
            "min_height": null,
            "min_width": null,
            "object_fit": null,
            "object_position": null,
            "order": null,
            "overflow": null,
            "overflow_x": null,
            "overflow_y": null,
            "padding": null,
            "right": null,
            "top": null,
            "visibility": null,
            "width": null
          }
        },
        "a7bb6873beca4069bca0da691984e42c": {
          "model_module": "@jupyter-widgets/controls",
          "model_name": "DescriptionStyleModel",
          "model_module_version": "1.5.0",
          "state": {
            "_model_module": "@jupyter-widgets/controls",
            "_model_module_version": "1.5.0",
            "_model_name": "DescriptionStyleModel",
            "_view_count": null,
            "_view_module": "@jupyter-widgets/base",
            "_view_module_version": "1.2.0",
            "_view_name": "StyleView",
            "description_width": ""
          }
        },
        "ec40a16cd59949d996e58b4352faf2f3": {
          "model_module": "@jupyter-widgets/base",
          "model_name": "LayoutModel",
          "model_module_version": "1.2.0",
          "state": {
            "_model_module": "@jupyter-widgets/base",
            "_model_module_version": "1.2.0",
            "_model_name": "LayoutModel",
            "_view_count": null,
            "_view_module": "@jupyter-widgets/base",
            "_view_module_version": "1.2.0",
            "_view_name": "LayoutView",
            "align_content": null,
            "align_items": null,
            "align_self": null,
            "border": null,
            "bottom": null,
            "display": null,
            "flex": null,
            "flex_flow": null,
            "grid_area": null,
            "grid_auto_columns": null,
            "grid_auto_flow": null,
            "grid_auto_rows": null,
            "grid_column": null,
            "grid_gap": null,
            "grid_row": null,
            "grid_template_areas": null,
            "grid_template_columns": null,
            "grid_template_rows": null,
            "height": null,
            "justify_content": null,
            "justify_items": null,
            "left": null,
            "margin": null,
            "max_height": null,
            "max_width": null,
            "min_height": null,
            "min_width": null,
            "object_fit": null,
            "object_position": null,
            "order": null,
            "overflow": null,
            "overflow_x": null,
            "overflow_y": null,
            "padding": null,
            "right": null,
            "top": null,
            "visibility": null,
            "width": null
          }
        },
        "c6ef543857aa4751924463faeccc5a28": {
          "model_module": "@jupyter-widgets/controls",
          "model_name": "ProgressStyleModel",
          "model_module_version": "1.5.0",
          "state": {
            "_model_module": "@jupyter-widgets/controls",
            "_model_module_version": "1.5.0",
            "_model_name": "ProgressStyleModel",
            "_view_count": null,
            "_view_module": "@jupyter-widgets/base",
            "_view_module_version": "1.2.0",
            "_view_name": "StyleView",
            "bar_color": null,
            "description_width": ""
          }
        },
        "23ff467a5fd345debb1fbec60682babf": {
          "model_module": "@jupyter-widgets/base",
          "model_name": "LayoutModel",
          "model_module_version": "1.2.0",
          "state": {
            "_model_module": "@jupyter-widgets/base",
            "_model_module_version": "1.2.0",
            "_model_name": "LayoutModel",
            "_view_count": null,
            "_view_module": "@jupyter-widgets/base",
            "_view_module_version": "1.2.0",
            "_view_name": "LayoutView",
            "align_content": null,
            "align_items": null,
            "align_self": null,
            "border": null,
            "bottom": null,
            "display": null,
            "flex": null,
            "flex_flow": null,
            "grid_area": null,
            "grid_auto_columns": null,
            "grid_auto_flow": null,
            "grid_auto_rows": null,
            "grid_column": null,
            "grid_gap": null,
            "grid_row": null,
            "grid_template_areas": null,
            "grid_template_columns": null,
            "grid_template_rows": null,
            "height": null,
            "justify_content": null,
            "justify_items": null,
            "left": null,
            "margin": null,
            "max_height": null,
            "max_width": null,
            "min_height": null,
            "min_width": null,
            "object_fit": null,
            "object_position": null,
            "order": null,
            "overflow": null,
            "overflow_x": null,
            "overflow_y": null,
            "padding": null,
            "right": null,
            "top": null,
            "visibility": null,
            "width": null
          }
        },
        "7d5eba8c4de14a8e834fda3357951983": {
          "model_module": "@jupyter-widgets/controls",
          "model_name": "DescriptionStyleModel",
          "model_module_version": "1.5.0",
          "state": {
            "_model_module": "@jupyter-widgets/controls",
            "_model_module_version": "1.5.0",
            "_model_name": "DescriptionStyleModel",
            "_view_count": null,
            "_view_module": "@jupyter-widgets/base",
            "_view_module_version": "1.2.0",
            "_view_name": "StyleView",
            "description_width": ""
          }
        },
        "101b7344a7054ac6b29af7bd773544e3": {
          "model_module": "@jupyter-widgets/controls",
          "model_name": "HBoxModel",
          "model_module_version": "1.5.0",
          "state": {
            "_dom_classes": [],
            "_model_module": "@jupyter-widgets/controls",
            "_model_module_version": "1.5.0",
            "_model_name": "HBoxModel",
            "_view_count": null,
            "_view_module": "@jupyter-widgets/controls",
            "_view_module_version": "1.5.0",
            "_view_name": "HBoxView",
            "box_style": "",
            "children": [
              "IPY_MODEL_f6a07d1f4d13423eb04cdcd20298d973",
              "IPY_MODEL_9ddc5b632bf143678a3f91129ff81b26",
              "IPY_MODEL_6e6ec0e58af54ac9a34127471ce198b9"
            ],
            "layout": "IPY_MODEL_73a0f14764de48fd9df8f4da7a3fe3a5"
          }
        },
        "f6a07d1f4d13423eb04cdcd20298d973": {
          "model_module": "@jupyter-widgets/controls",
          "model_name": "HTMLModel",
          "model_module_version": "1.5.0",
          "state": {
            "_dom_classes": [],
            "_model_module": "@jupyter-widgets/controls",
            "_model_module_version": "1.5.0",
            "_model_name": "HTMLModel",
            "_view_count": null,
            "_view_module": "@jupyter-widgets/controls",
            "_view_module_version": "1.5.0",
            "_view_name": "HTMLView",
            "description": "",
            "description_tooltip": null,
            "layout": "IPY_MODEL_9fc464607e2740cb983693ee21902a2f",
            "placeholder": "​",
            "style": "IPY_MODEL_f4f57801ee0c43c49d7b40457aaac461",
            "value": "100%"
          }
        },
        "9ddc5b632bf143678a3f91129ff81b26": {
          "model_module": "@jupyter-widgets/controls",
          "model_name": "FloatProgressModel",
          "model_module_version": "1.5.0",
          "state": {
            "_dom_classes": [],
            "_model_module": "@jupyter-widgets/controls",
            "_model_module_version": "1.5.0",
            "_model_name": "FloatProgressModel",
            "_view_count": null,
            "_view_module": "@jupyter-widgets/controls",
            "_view_module_version": "1.5.0",
            "_view_name": "ProgressView",
            "bar_style": "success",
            "description": "",
            "description_tooltip": null,
            "layout": "IPY_MODEL_e4b9910d30114e6c92c8138b5aac60d9",
            "max": 50,
            "min": 0,
            "orientation": "horizontal",
            "style": "IPY_MODEL_cc951e2fef624979acc848cedd9746df",
            "value": 50
          }
        },
        "6e6ec0e58af54ac9a34127471ce198b9": {
          "model_module": "@jupyter-widgets/controls",
          "model_name": "HTMLModel",
          "model_module_version": "1.5.0",
          "state": {
            "_dom_classes": [],
            "_model_module": "@jupyter-widgets/controls",
            "_model_module_version": "1.5.0",
            "_model_name": "HTMLModel",
            "_view_count": null,
            "_view_module": "@jupyter-widgets/controls",
            "_view_module_version": "1.5.0",
            "_view_name": "HTMLView",
            "description": "",
            "description_tooltip": null,
            "layout": "IPY_MODEL_b8802ac0484044af834d1762041e3d79",
            "placeholder": "​",
            "style": "IPY_MODEL_213b6428b83941638e583b961e737b99",
            "value": " 50/50 [00:47&lt;00:00,  1.44it/s]"
          }
        },
        "73a0f14764de48fd9df8f4da7a3fe3a5": {
          "model_module": "@jupyter-widgets/base",
          "model_name": "LayoutModel",
          "model_module_version": "1.2.0",
          "state": {
            "_model_module": "@jupyter-widgets/base",
            "_model_module_version": "1.2.0",
            "_model_name": "LayoutModel",
            "_view_count": null,
            "_view_module": "@jupyter-widgets/base",
            "_view_module_version": "1.2.0",
            "_view_name": "LayoutView",
            "align_content": null,
            "align_items": null,
            "align_self": null,
            "border": null,
            "bottom": null,
            "display": null,
            "flex": null,
            "flex_flow": null,
            "grid_area": null,
            "grid_auto_columns": null,
            "grid_auto_flow": null,
            "grid_auto_rows": null,
            "grid_column": null,
            "grid_gap": null,
            "grid_row": null,
            "grid_template_areas": null,
            "grid_template_columns": null,
            "grid_template_rows": null,
            "height": null,
            "justify_content": null,
            "justify_items": null,
            "left": null,
            "margin": null,
            "max_height": null,
            "max_width": null,
            "min_height": null,
            "min_width": null,
            "object_fit": null,
            "object_position": null,
            "order": null,
            "overflow": null,
            "overflow_x": null,
            "overflow_y": null,
            "padding": null,
            "right": null,
            "top": null,
            "visibility": null,
            "width": null
          }
        },
        "9fc464607e2740cb983693ee21902a2f": {
          "model_module": "@jupyter-widgets/base",
          "model_name": "LayoutModel",
          "model_module_version": "1.2.0",
          "state": {
            "_model_module": "@jupyter-widgets/base",
            "_model_module_version": "1.2.0",
            "_model_name": "LayoutModel",
            "_view_count": null,
            "_view_module": "@jupyter-widgets/base",
            "_view_module_version": "1.2.0",
            "_view_name": "LayoutView",
            "align_content": null,
            "align_items": null,
            "align_self": null,
            "border": null,
            "bottom": null,
            "display": null,
            "flex": null,
            "flex_flow": null,
            "grid_area": null,
            "grid_auto_columns": null,
            "grid_auto_flow": null,
            "grid_auto_rows": null,
            "grid_column": null,
            "grid_gap": null,
            "grid_row": null,
            "grid_template_areas": null,
            "grid_template_columns": null,
            "grid_template_rows": null,
            "height": null,
            "justify_content": null,
            "justify_items": null,
            "left": null,
            "margin": null,
            "max_height": null,
            "max_width": null,
            "min_height": null,
            "min_width": null,
            "object_fit": null,
            "object_position": null,
            "order": null,
            "overflow": null,
            "overflow_x": null,
            "overflow_y": null,
            "padding": null,
            "right": null,
            "top": null,
            "visibility": null,
            "width": null
          }
        },
        "f4f57801ee0c43c49d7b40457aaac461": {
          "model_module": "@jupyter-widgets/controls",
          "model_name": "DescriptionStyleModel",
          "model_module_version": "1.5.0",
          "state": {
            "_model_module": "@jupyter-widgets/controls",
            "_model_module_version": "1.5.0",
            "_model_name": "DescriptionStyleModel",
            "_view_count": null,
            "_view_module": "@jupyter-widgets/base",
            "_view_module_version": "1.2.0",
            "_view_name": "StyleView",
            "description_width": ""
          }
        },
        "e4b9910d30114e6c92c8138b5aac60d9": {
          "model_module": "@jupyter-widgets/base",
          "model_name": "LayoutModel",
          "model_module_version": "1.2.0",
          "state": {
            "_model_module": "@jupyter-widgets/base",
            "_model_module_version": "1.2.0",
            "_model_name": "LayoutModel",
            "_view_count": null,
            "_view_module": "@jupyter-widgets/base",
            "_view_module_version": "1.2.0",
            "_view_name": "LayoutView",
            "align_content": null,
            "align_items": null,
            "align_self": null,
            "border": null,
            "bottom": null,
            "display": null,
            "flex": null,
            "flex_flow": null,
            "grid_area": null,
            "grid_auto_columns": null,
            "grid_auto_flow": null,
            "grid_auto_rows": null,
            "grid_column": null,
            "grid_gap": null,
            "grid_row": null,
            "grid_template_areas": null,
            "grid_template_columns": null,
            "grid_template_rows": null,
            "height": null,
            "justify_content": null,
            "justify_items": null,
            "left": null,
            "margin": null,
            "max_height": null,
            "max_width": null,
            "min_height": null,
            "min_width": null,
            "object_fit": null,
            "object_position": null,
            "order": null,
            "overflow": null,
            "overflow_x": null,
            "overflow_y": null,
            "padding": null,
            "right": null,
            "top": null,
            "visibility": null,
            "width": null
          }
        },
        "cc951e2fef624979acc848cedd9746df": {
          "model_module": "@jupyter-widgets/controls",
          "model_name": "ProgressStyleModel",
          "model_module_version": "1.5.0",
          "state": {
            "_model_module": "@jupyter-widgets/controls",
            "_model_module_version": "1.5.0",
            "_model_name": "ProgressStyleModel",
            "_view_count": null,
            "_view_module": "@jupyter-widgets/base",
            "_view_module_version": "1.2.0",
            "_view_name": "StyleView",
            "bar_color": null,
            "description_width": ""
          }
        },
        "b8802ac0484044af834d1762041e3d79": {
          "model_module": "@jupyter-widgets/base",
          "model_name": "LayoutModel",
          "model_module_version": "1.2.0",
          "state": {
            "_model_module": "@jupyter-widgets/base",
            "_model_module_version": "1.2.0",
            "_model_name": "LayoutModel",
            "_view_count": null,
            "_view_module": "@jupyter-widgets/base",
            "_view_module_version": "1.2.0",
            "_view_name": "LayoutView",
            "align_content": null,
            "align_items": null,
            "align_self": null,
            "border": null,
            "bottom": null,
            "display": null,
            "flex": null,
            "flex_flow": null,
            "grid_area": null,
            "grid_auto_columns": null,
            "grid_auto_flow": null,
            "grid_auto_rows": null,
            "grid_column": null,
            "grid_gap": null,
            "grid_row": null,
            "grid_template_areas": null,
            "grid_template_columns": null,
            "grid_template_rows": null,
            "height": null,
            "justify_content": null,
            "justify_items": null,
            "left": null,
            "margin": null,
            "max_height": null,
            "max_width": null,
            "min_height": null,
            "min_width": null,
            "object_fit": null,
            "object_position": null,
            "order": null,
            "overflow": null,
            "overflow_x": null,
            "overflow_y": null,
            "padding": null,
            "right": null,
            "top": null,
            "visibility": null,
            "width": null
          }
        },
        "213b6428b83941638e583b961e737b99": {
          "model_module": "@jupyter-widgets/controls",
          "model_name": "DescriptionStyleModel",
          "model_module_version": "1.5.0",
          "state": {
            "_model_module": "@jupyter-widgets/controls",
            "_model_module_version": "1.5.0",
            "_model_name": "DescriptionStyleModel",
            "_view_count": null,
            "_view_module": "@jupyter-widgets/base",
            "_view_module_version": "1.2.0",
            "_view_name": "StyleView",
            "description_width": ""
          }
        },
        "60c858ad30b649a5898ff254eb758732": {
          "model_module": "@jupyter-widgets/controls",
          "model_name": "HBoxModel",
          "model_module_version": "1.5.0",
          "state": {
            "_dom_classes": [],
            "_model_module": "@jupyter-widgets/controls",
            "_model_module_version": "1.5.0",
            "_model_name": "HBoxModel",
            "_view_count": null,
            "_view_module": "@jupyter-widgets/controls",
            "_view_module_version": "1.5.0",
            "_view_name": "HBoxView",
            "box_style": "",
            "children": [
              "IPY_MODEL_d88f860d69b549568416c5f722ddc422",
              "IPY_MODEL_e631491ab8ff44289ce55419f735d517",
              "IPY_MODEL_d7b8fa8bb8ad4854a80458b7fc4e40c0"
            ],
            "layout": "IPY_MODEL_62c6a38873d649bd82788af5ffce7d36"
          }
        },
        "d88f860d69b549568416c5f722ddc422": {
          "model_module": "@jupyter-widgets/controls",
          "model_name": "HTMLModel",
          "model_module_version": "1.5.0",
          "state": {
            "_dom_classes": [],
            "_model_module": "@jupyter-widgets/controls",
            "_model_module_version": "1.5.0",
            "_model_name": "HTMLModel",
            "_view_count": null,
            "_view_module": "@jupyter-widgets/controls",
            "_view_module_version": "1.5.0",
            "_view_name": "HTMLView",
            "description": "",
            "description_tooltip": null,
            "layout": "IPY_MODEL_f5cfa573672b4740aa1d560cf71e1fe2",
            "placeholder": "​",
            "style": "IPY_MODEL_77ffc6a6f2ef4d1abbcf435e242322a5",
            "value": "100%"
          }
        },
        "e631491ab8ff44289ce55419f735d517": {
          "model_module": "@jupyter-widgets/controls",
          "model_name": "FloatProgressModel",
          "model_module_version": "1.5.0",
          "state": {
            "_dom_classes": [],
            "_model_module": "@jupyter-widgets/controls",
            "_model_module_version": "1.5.0",
            "_model_name": "FloatProgressModel",
            "_view_count": null,
            "_view_module": "@jupyter-widgets/controls",
            "_view_module_version": "1.5.0",
            "_view_name": "ProgressView",
            "bar_style": "success",
            "description": "",
            "description_tooltip": null,
            "layout": "IPY_MODEL_badc2af90eb24e86ab1287b01d2fdd01",
            "max": 50,
            "min": 0,
            "orientation": "horizontal",
            "style": "IPY_MODEL_78fe4897166f47288510b46732409316",
            "value": 50
          }
        },
        "d7b8fa8bb8ad4854a80458b7fc4e40c0": {
          "model_module": "@jupyter-widgets/controls",
          "model_name": "HTMLModel",
          "model_module_version": "1.5.0",
          "state": {
            "_dom_classes": [],
            "_model_module": "@jupyter-widgets/controls",
            "_model_module_version": "1.5.0",
            "_model_name": "HTMLModel",
            "_view_count": null,
            "_view_module": "@jupyter-widgets/controls",
            "_view_module_version": "1.5.0",
            "_view_name": "HTMLView",
            "description": "",
            "description_tooltip": null,
            "layout": "IPY_MODEL_aa4c7640b1834270af1e5ca9373a4ba8",
            "placeholder": "​",
            "style": "IPY_MODEL_49cdff877ee74327804b659e42109ffc",
            "value": " 50/50 [00:20&lt;00:00,  3.51it/s]"
          }
        },
        "62c6a38873d649bd82788af5ffce7d36": {
          "model_module": "@jupyter-widgets/base",
          "model_name": "LayoutModel",
          "model_module_version": "1.2.0",
          "state": {
            "_model_module": "@jupyter-widgets/base",
            "_model_module_version": "1.2.0",
            "_model_name": "LayoutModel",
            "_view_count": null,
            "_view_module": "@jupyter-widgets/base",
            "_view_module_version": "1.2.0",
            "_view_name": "LayoutView",
            "align_content": null,
            "align_items": null,
            "align_self": null,
            "border": null,
            "bottom": null,
            "display": null,
            "flex": null,
            "flex_flow": null,
            "grid_area": null,
            "grid_auto_columns": null,
            "grid_auto_flow": null,
            "grid_auto_rows": null,
            "grid_column": null,
            "grid_gap": null,
            "grid_row": null,
            "grid_template_areas": null,
            "grid_template_columns": null,
            "grid_template_rows": null,
            "height": null,
            "justify_content": null,
            "justify_items": null,
            "left": null,
            "margin": null,
            "max_height": null,
            "max_width": null,
            "min_height": null,
            "min_width": null,
            "object_fit": null,
            "object_position": null,
            "order": null,
            "overflow": null,
            "overflow_x": null,
            "overflow_y": null,
            "padding": null,
            "right": null,
            "top": null,
            "visibility": null,
            "width": null
          }
        },
        "f5cfa573672b4740aa1d560cf71e1fe2": {
          "model_module": "@jupyter-widgets/base",
          "model_name": "LayoutModel",
          "model_module_version": "1.2.0",
          "state": {
            "_model_module": "@jupyter-widgets/base",
            "_model_module_version": "1.2.0",
            "_model_name": "LayoutModel",
            "_view_count": null,
            "_view_module": "@jupyter-widgets/base",
            "_view_module_version": "1.2.0",
            "_view_name": "LayoutView",
            "align_content": null,
            "align_items": null,
            "align_self": null,
            "border": null,
            "bottom": null,
            "display": null,
            "flex": null,
            "flex_flow": null,
            "grid_area": null,
            "grid_auto_columns": null,
            "grid_auto_flow": null,
            "grid_auto_rows": null,
            "grid_column": null,
            "grid_gap": null,
            "grid_row": null,
            "grid_template_areas": null,
            "grid_template_columns": null,
            "grid_template_rows": null,
            "height": null,
            "justify_content": null,
            "justify_items": null,
            "left": null,
            "margin": null,
            "max_height": null,
            "max_width": null,
            "min_height": null,
            "min_width": null,
            "object_fit": null,
            "object_position": null,
            "order": null,
            "overflow": null,
            "overflow_x": null,
            "overflow_y": null,
            "padding": null,
            "right": null,
            "top": null,
            "visibility": null,
            "width": null
          }
        },
        "77ffc6a6f2ef4d1abbcf435e242322a5": {
          "model_module": "@jupyter-widgets/controls",
          "model_name": "DescriptionStyleModel",
          "model_module_version": "1.5.0",
          "state": {
            "_model_module": "@jupyter-widgets/controls",
            "_model_module_version": "1.5.0",
            "_model_name": "DescriptionStyleModel",
            "_view_count": null,
            "_view_module": "@jupyter-widgets/base",
            "_view_module_version": "1.2.0",
            "_view_name": "StyleView",
            "description_width": ""
          }
        },
        "badc2af90eb24e86ab1287b01d2fdd01": {
          "model_module": "@jupyter-widgets/base",
          "model_name": "LayoutModel",
          "model_module_version": "1.2.0",
          "state": {
            "_model_module": "@jupyter-widgets/base",
            "_model_module_version": "1.2.0",
            "_model_name": "LayoutModel",
            "_view_count": null,
            "_view_module": "@jupyter-widgets/base",
            "_view_module_version": "1.2.0",
            "_view_name": "LayoutView",
            "align_content": null,
            "align_items": null,
            "align_self": null,
            "border": null,
            "bottom": null,
            "display": null,
            "flex": null,
            "flex_flow": null,
            "grid_area": null,
            "grid_auto_columns": null,
            "grid_auto_flow": null,
            "grid_auto_rows": null,
            "grid_column": null,
            "grid_gap": null,
            "grid_row": null,
            "grid_template_areas": null,
            "grid_template_columns": null,
            "grid_template_rows": null,
            "height": null,
            "justify_content": null,
            "justify_items": null,
            "left": null,
            "margin": null,
            "max_height": null,
            "max_width": null,
            "min_height": null,
            "min_width": null,
            "object_fit": null,
            "object_position": null,
            "order": null,
            "overflow": null,
            "overflow_x": null,
            "overflow_y": null,
            "padding": null,
            "right": null,
            "top": null,
            "visibility": null,
            "width": null
          }
        },
        "78fe4897166f47288510b46732409316": {
          "model_module": "@jupyter-widgets/controls",
          "model_name": "ProgressStyleModel",
          "model_module_version": "1.5.0",
          "state": {
            "_model_module": "@jupyter-widgets/controls",
            "_model_module_version": "1.5.0",
            "_model_name": "ProgressStyleModel",
            "_view_count": null,
            "_view_module": "@jupyter-widgets/base",
            "_view_module_version": "1.2.0",
            "_view_name": "StyleView",
            "bar_color": null,
            "description_width": ""
          }
        },
        "aa4c7640b1834270af1e5ca9373a4ba8": {
          "model_module": "@jupyter-widgets/base",
          "model_name": "LayoutModel",
          "model_module_version": "1.2.0",
          "state": {
            "_model_module": "@jupyter-widgets/base",
            "_model_module_version": "1.2.0",
            "_model_name": "LayoutModel",
            "_view_count": null,
            "_view_module": "@jupyter-widgets/base",
            "_view_module_version": "1.2.0",
            "_view_name": "LayoutView",
            "align_content": null,
            "align_items": null,
            "align_self": null,
            "border": null,
            "bottom": null,
            "display": null,
            "flex": null,
            "flex_flow": null,
            "grid_area": null,
            "grid_auto_columns": null,
            "grid_auto_flow": null,
            "grid_auto_rows": null,
            "grid_column": null,
            "grid_gap": null,
            "grid_row": null,
            "grid_template_areas": null,
            "grid_template_columns": null,
            "grid_template_rows": null,
            "height": null,
            "justify_content": null,
            "justify_items": null,
            "left": null,
            "margin": null,
            "max_height": null,
            "max_width": null,
            "min_height": null,
            "min_width": null,
            "object_fit": null,
            "object_position": null,
            "order": null,
            "overflow": null,
            "overflow_x": null,
            "overflow_y": null,
            "padding": null,
            "right": null,
            "top": null,
            "visibility": null,
            "width": null
          }
        },
        "49cdff877ee74327804b659e42109ffc": {
          "model_module": "@jupyter-widgets/controls",
          "model_name": "DescriptionStyleModel",
          "model_module_version": "1.5.0",
          "state": {
            "_model_module": "@jupyter-widgets/controls",
            "_model_module_version": "1.5.0",
            "_model_name": "DescriptionStyleModel",
            "_view_count": null,
            "_view_module": "@jupyter-widgets/base",
            "_view_module_version": "1.2.0",
            "_view_name": "StyleView",
            "description_width": ""
          }
        }
      }
    }
  },
  "nbformat": 4,
  "nbformat_minor": 0
}