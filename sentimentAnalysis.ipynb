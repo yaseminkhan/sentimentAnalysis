{
 "cells": [
  {
   "cell_type": "markdown",
   "metadata": {},
   "source": [
    "# Sentiment Analysis of IMDB reviews"
   ]
  },
  {
   "cell_type": "markdown",
   "metadata": {},
   "source": [
    "## Setup"
   ]
  },
  {
   "cell_type": "code",
   "execution_count": 3,
   "metadata": {},
   "outputs": [
    {
     "name": "stdout",
     "output_type": "stream",
     "text": [
      "                                              review sentiment\n",
      "0  One of the other reviewers has mentioned that ...  positive\n",
      "1  A wonderful little production. <br /><br />The...  positive\n",
      "2  I thought this was a wonderful way to spend ti...  positive\n",
      "3  Basically there's a family where a little boy ...  negative\n",
      "4  Petter Mattei's \"Love in the Time of Money\" is...  positive\n"
     ]
    }
   ],
   "source": [
    "import pandas as pd\n",
    "\n",
    "# Load the dataset\n",
    "df = pd.read_csv('IMDB_Dataset.csv')\n",
    "print(df.head())"
   ]
  },
  {
   "cell_type": "code",
   "execution_count": 4,
   "metadata": {},
   "outputs": [
    {
     "name": "stdout",
     "output_type": "stream",
     "text": [
      "(1000, 2)\n"
     ]
    }
   ],
   "source": [
    "#remove to run for whole dataset\n",
    "df = df.head(1000)\n",
    "print(df.shape)"
   ]
  },
  {
   "cell_type": "markdown",
   "metadata": {},
   "source": [
    "## Basic NLTK "
   ]
  },
  {
   "cell_type": "code",
   "execution_count": 7,
   "metadata": {},
   "outputs": [
    {
     "name": "stderr",
     "output_type": "stream",
     "text": [
      "[nltk_data] Downloading package punkt to /Users/yasemin/nltk_data...\n",
      "[nltk_data]   Package punkt is already up-to-date!\n",
      "[nltk_data] Downloading package averaged_perceptron_tagger to\n",
      "[nltk_data]     /Users/yasemin/nltk_data...\n",
      "[nltk_data]   Package averaged_perceptron_tagger is already up-to-\n",
      "[nltk_data]       date!\n",
      "[nltk_data] Downloading package maxent_ne_chunker to\n",
      "[nltk_data]     /Users/yasemin/nltk_data...\n",
      "[nltk_data]   Package maxent_ne_chunker is already up-to-date!\n",
      "[nltk_data] Downloading package words to /Users/yasemin/nltk_data...\n",
      "[nltk_data]   Package words is already up-to-date!\n",
      "[nltk_data] Downloading package vader_lexicon to\n",
      "[nltk_data]     /Users/yasemin/nltk_data...\n",
      "[nltk_data]   Package vader_lexicon is already up-to-date!\n"
     ]
    },
    {
     "data": {
      "text/plain": [
       "True"
      ]
     },
     "execution_count": 7,
     "metadata": {},
     "output_type": "execute_result"
    }
   ],
   "source": [
    "import nltk\n",
    "nltk.download('punkt')\n",
    "nltk.download('averaged_perceptron_tagger')\n",
    "nltk.download('maxent_ne_chunker')\n",
    "nltk.download('words')\n",
    "nltk.download('vader_lexicon')"
   ]
  },
  {
   "cell_type": "code",
   "execution_count": 5,
   "metadata": {},
   "outputs": [
    {
     "name": "stdout",
     "output_type": "stream",
     "text": [
      "If you want just about everything you want to know about WWII from multiple perspectives, this DVD delivers, you WILL learn new things guaranteed, so much so that you won't need any other documentary's on the subject. Get this, watch it, learn from it. Good for school use as well. As a bonus, watch this with Tora tora tora, saving private ryan, patton, band of brothers, a bridge too far, the longest day and other WWII epics along with this to make your knowledge of WWII even more complete. Sir Laurence Oliver's voice adds to the overall atmosphere of each episode in this 26 part series. Seriously you won't find a better WWII documentary set on the subject. PERFECT 10!!!\n"
     ]
    }
   ],
   "source": [
    "example = df[\"review\"][800]\n",
    "print(example)"
   ]
  },
  {
   "cell_type": "code",
   "execution_count": 8,
   "metadata": {},
   "outputs": [
    {
     "data": {
      "text/plain": [
       "['If',\n",
       " 'you',\n",
       " 'want',\n",
       " 'just',\n",
       " 'about',\n",
       " 'everything',\n",
       " 'you',\n",
       " 'want',\n",
       " 'to',\n",
       " 'know']"
      ]
     },
     "execution_count": 8,
     "metadata": {},
     "output_type": "execute_result"
    }
   ],
   "source": [
    "# split the review into individual words\n",
    "tokens = nltk.word_tokenize(example)\n",
    "tokens[:10]"
   ]
  },
  {
   "cell_type": "code",
   "execution_count": 9,
   "metadata": {},
   "outputs": [
    {
     "data": {
      "text/plain": [
       "[('If', 'IN'),\n",
       " ('you', 'PRP'),\n",
       " ('want', 'VBP'),\n",
       " ('just', 'RB'),\n",
       " ('about', 'IN'),\n",
       " ('everything', 'NN'),\n",
       " ('you', 'PRP'),\n",
       " ('want', 'VBP'),\n",
       " ('to', 'TO'),\n",
       " ('know', 'VB')]"
      ]
     },
     "execution_count": 9,
     "metadata": {},
     "output_type": "execute_result"
    }
   ],
   "source": [
    "# add nltk tags to words\n",
    "tagged = nltk.pos_tag(tokens)\n",
    "tagged[:10]"
   ]
  },
  {
   "cell_type": "code",
   "execution_count": 10,
   "metadata": {},
   "outputs": [
    {
     "name": "stdout",
     "output_type": "stream",
     "text": [
      "(S\n",
      "  If/IN\n",
      "  you/PRP\n",
      "  want/VBP\n",
      "  just/RB\n",
      "  about/IN\n",
      "  everything/NN\n",
      "  you/PRP\n",
      "  want/VBP\n",
      "  to/TO\n",
      "  know/VB\n",
      "  about/IN\n",
      "  (ORGANIZATION WWII/NNP)\n",
      "  from/IN\n",
      "  multiple/JJ\n",
      "  perspectives/NNS\n",
      "  ,/,\n",
      "  this/DT\n",
      "  DVD/NNP\n",
      "  delivers/NNS\n",
      "  ,/,\n",
      "  you/PRP\n",
      "  WILL/VBP\n",
      "  learn/VB\n",
      "  new/JJ\n",
      "  things/NNS\n",
      "  guaranteed/VBN\n",
      "  ,/,\n",
      "  so/RB\n",
      "  much/RB\n",
      "  so/IN\n",
      "  that/IN\n",
      "  you/PRP\n",
      "  wo/MD\n",
      "  n't/RB\n",
      "  need/VB\n",
      "  any/DT\n",
      "  other/JJ\n",
      "  documentary/NN\n",
      "  's/POS\n",
      "  on/IN\n",
      "  the/DT\n",
      "  subject/NN\n",
      "  ./.\n",
      "  Get/VB\n",
      "  this/DT\n",
      "  ,/,\n",
      "  watch/VB\n",
      "  it/PRP\n",
      "  ,/,\n",
      "  learn/VBZ\n",
      "  from/IN\n",
      "  it/PRP\n",
      "  ./.\n",
      "  Good/JJ\n",
      "  for/IN\n",
      "  school/NN\n",
      "  use/NN\n",
      "  as/IN\n",
      "  well/RB\n",
      "  ./.\n",
      "  As/IN\n",
      "  a/DT\n",
      "  bonus/NN\n",
      "  ,/,\n",
      "  watch/VB\n",
      "  this/DT\n",
      "  with/IN\n",
      "  (PERSON Tora/NNP)\n",
      "  tora/NN\n",
      "  tora/NN\n",
      "  ,/,\n",
      "  saving/VBG\n",
      "  private/JJ\n",
      "  ryan/NN\n",
      "  ,/,\n",
      "  patton/NN\n",
      "  ,/,\n",
      "  band/NN\n",
      "  of/IN\n",
      "  brothers/NNS\n",
      "  ,/,\n",
      "  a/DT\n",
      "  bridge/NN\n",
      "  too/RB\n",
      "  far/RB\n",
      "  ,/,\n",
      "  the/DT\n",
      "  longest/JJS\n",
      "  day/NN\n",
      "  and/CC\n",
      "  other/JJ\n",
      "  (ORGANIZATION WWII/NNP)\n",
      "  epics/NNS\n",
      "  along/IN\n",
      "  with/IN\n",
      "  this/DT\n",
      "  to/TO\n",
      "  make/VB\n",
      "  your/PRP$\n",
      "  knowledge/NN\n",
      "  of/IN\n",
      "  (ORGANIZATION WWII/NNP)\n",
      "  even/RB\n",
      "  more/RBR\n",
      "  complete/JJ\n",
      "  ./.\n",
      "  (PERSON Sir/NNP Laurence/NNP Oliver/NNP)\n",
      "  's/POS\n",
      "  voice/NN\n",
      "  adds/VBZ\n",
      "  to/TO\n",
      "  the/DT\n",
      "  overall/JJ\n",
      "  atmosphere/NN\n",
      "  of/IN\n",
      "  each/DT\n",
      "  episode/NN\n",
      "  in/IN\n",
      "  this/DT\n",
      "  26/CD\n",
      "  part/NN\n",
      "  series/NN\n",
      "  ./.\n",
      "  Seriously/NNP\n",
      "  you/PRP\n",
      "  wo/MD\n",
      "  n't/RB\n",
      "  find/VB\n",
      "  a/DT\n",
      "  better/JJR\n",
      "  (ORGANIZATION WWII/NNP)\n",
      "  documentary/JJ\n",
      "  set/NN\n",
      "  on/IN\n",
      "  the/DT\n",
      "  subject/NN\n",
      "  ./.\n",
      "  PERFECT/NNP\n",
      "  10/CD\n",
      "  !/.\n",
      "  !/.\n",
      "  !/.)\n"
     ]
    }
   ],
   "source": [
    "# identify named entities in text \n",
    "entities = nltk.chunk.ne_chunk(tagged)\n",
    "entities.pprint()"
   ]
  },
  {
   "cell_type": "markdown",
   "metadata": {},
   "source": [
    "## VADER Sentiment Scoring"
   ]
  },
  {
   "cell_type": "code",
   "execution_count": 11,
   "metadata": {},
   "outputs": [],
   "source": [
    "from nltk.sentiment import SentimentIntensityAnalyzer\n",
    "from tqdm.notebook import tqdm\n",
    "\n",
    "sia = SentimentIntensityAnalyzer()"
   ]
  },
  {
   "cell_type": "code",
   "execution_count": 12,
   "metadata": {},
   "outputs": [
    {
     "data": {
      "text/plain": [
       "{'neg': 0.032, 'neu': 0.842, 'pos': 0.127, 'compound': 0.9063}"
      ]
     },
     "execution_count": 12,
     "metadata": {},
     "output_type": "execute_result"
    }
   ],
   "source": [
    "# the compound score will later be used to determine the accuracy of the model \n",
    "sia.polarity_scores(example)"
   ]
  },
  {
   "cell_type": "code",
   "execution_count": 15,
   "metadata": {},
   "outputs": [
    {
     "data": {
      "application/json": {
       "ascii": false,
       "bar_format": null,
       "colour": null,
       "elapsed": 0.0058629512786865234,
       "initial": 0,
       "n": 0,
       "ncols": null,
       "nrows": null,
       "postfix": null,
       "prefix": "",
       "rate": null,
       "total": 1000,
       "unit": "it",
       "unit_divisor": 1000,
       "unit_scale": false
      },
      "application/vnd.jupyter.widget-view+json": {
       "model_id": "2d61b65127af49579ac7929ea350eaff",
       "version_major": 2,
       "version_minor": 0
      },
      "text/plain": [
       "  0%|          | 0/1000 [00:00<?, ?it/s]"
      ]
     },
     "metadata": {},
     "output_type": "display_data"
    }
   ],
   "source": [
    "# Run the polarity score on the entire dataset\n",
    "result = {}\n",
    "for i, row in tqdm(df.iterrows(), total=len(df)):\n",
    "    text = row['review']\n",
    "    result[i] = sia.polarity_scores(text)"
   ]
  },
  {
   "cell_type": "code",
   "execution_count": 20,
   "metadata": {},
   "outputs": [
    {
     "data": {
      "text/html": [
       "<div>\n",
       "<style scoped>\n",
       "    .dataframe tbody tr th:only-of-type {\n",
       "        vertical-align: middle;\n",
       "    }\n",
       "\n",
       "    .dataframe tbody tr th {\n",
       "        vertical-align: top;\n",
       "    }\n",
       "\n",
       "    .dataframe thead th {\n",
       "        text-align: right;\n",
       "    }\n",
       "</style>\n",
       "<table border=\"1\" class=\"dataframe\">\n",
       "  <thead>\n",
       "    <tr style=\"text-align: right;\">\n",
       "      <th></th>\n",
       "      <th>neg</th>\n",
       "      <th>neu</th>\n",
       "      <th>pos</th>\n",
       "      <th>compound</th>\n",
       "      <th>review</th>\n",
       "      <th>sentiment</th>\n",
       "    </tr>\n",
       "  </thead>\n",
       "  <tbody>\n",
       "    <tr>\n",
       "      <th>0</th>\n",
       "      <td>0.203</td>\n",
       "      <td>0.748</td>\n",
       "      <td>0.048</td>\n",
       "      <td>-0.9951</td>\n",
       "      <td>One of the other reviewers has mentioned that ...</td>\n",
       "      <td>positive</td>\n",
       "    </tr>\n",
       "    <tr>\n",
       "      <th>1</th>\n",
       "      <td>0.053</td>\n",
       "      <td>0.776</td>\n",
       "      <td>0.172</td>\n",
       "      <td>0.9641</td>\n",
       "      <td>A wonderful little production. &lt;br /&gt;&lt;br /&gt;The...</td>\n",
       "      <td>positive</td>\n",
       "    </tr>\n",
       "    <tr>\n",
       "      <th>2</th>\n",
       "      <td>0.094</td>\n",
       "      <td>0.714</td>\n",
       "      <td>0.192</td>\n",
       "      <td>0.9605</td>\n",
       "      <td>I thought this was a wonderful way to spend ti...</td>\n",
       "      <td>positive</td>\n",
       "    </tr>\n",
       "    <tr>\n",
       "      <th>3</th>\n",
       "      <td>0.138</td>\n",
       "      <td>0.797</td>\n",
       "      <td>0.065</td>\n",
       "      <td>-0.9213</td>\n",
       "      <td>Basically there's a family where a little boy ...</td>\n",
       "      <td>negative</td>\n",
       "    </tr>\n",
       "    <tr>\n",
       "      <th>4</th>\n",
       "      <td>0.052</td>\n",
       "      <td>0.801</td>\n",
       "      <td>0.147</td>\n",
       "      <td>0.9744</td>\n",
       "      <td>Petter Mattei's \"Love in the Time of Money\" is...</td>\n",
       "      <td>positive</td>\n",
       "    </tr>\n",
       "  </tbody>\n",
       "</table>\n",
       "</div>"
      ],
      "text/plain": [
       "     neg    neu    pos  compound  \\\n",
       "0  0.203  0.748  0.048   -0.9951   \n",
       "1  0.053  0.776  0.172    0.9641   \n",
       "2  0.094  0.714  0.192    0.9605   \n",
       "3  0.138  0.797  0.065   -0.9213   \n",
       "4  0.052  0.801  0.147    0.9744   \n",
       "\n",
       "                                              review sentiment  \n",
       "0  One of the other reviewers has mentioned that ...  positive  \n",
       "1  A wonderful little production. <br /><br />The...  positive  \n",
       "2  I thought this was a wonderful way to spend ti...  positive  \n",
       "3  Basically there's a family where a little boy ...  negative  \n",
       "4  Petter Mattei's \"Love in the Time of Money\" is...  positive  "
      ]
     },
     "execution_count": 20,
     "metadata": {},
     "output_type": "execute_result"
    }
   ],
   "source": [
    "# convert results to df\n",
    "vaders = pd.DataFrame(result).T\n",
    "\n",
    "# merge scores with df\n",
    "vaders = vaders.merge(df, how='left', left_index=True, right_index=True)\n",
    "vaders.head()"
   ]
  },
  {
   "cell_type": "markdown",
   "metadata": {},
   "source": [
    "### Plot VADER results"
   ]
  },
  {
   "cell_type": "code",
   "execution_count": 23,
   "metadata": {},
   "outputs": [
    {
     "data": {
      "image/png": "[encoded data removed]",
      "text/plain": [
       "<Figure size 432x288 with 1 Axes>"
      ]
     },
     "metadata": {
      "needs_background": "light"
     },
     "output_type": "display_data"
    }
   ],
   "source": [
    "import seaborn as sns\n",
    "import matplotlib.pyplot as plt\n",
    "\n",
    "ax = sns.barplot(data=vaders, x='sentiment', y='compound')\n",
    "ax.set_title('Compound score by Sentiment')\n",
    "plt.show()"
   ]
  },
  {
   "cell_type": "code",
   "execution_count": 32,
   "metadata": {},
   "outputs": [
    {
     "data": {
      "image/png": "[encoded data removed]",
      "text/plain": [
       "<Figure size 1080x360 with 3 Axes>"
      ]
     },
     "metadata": {
      "needs_background": "light"
     },
     "output_type": "display_data"
    }
   ],
   "source": [
    "fig, axs = plt.subplots(1, 3, figsize=(15,5))\n",
    "sns.barplot(data=vaders, x='sentiment', y='pos', ax=axs[0])\n",
    "sns.barplot(data=vaders, x='sentiment', y='neu', ax=axs[1])\n",
    "sns.barplot(data=vaders, x='sentiment', y='neg', ax=axs[2])\n",
    "axs[0].set_title('Positive')\n",
    "axs[1].set_title('Neutral')\n",
    "axs[2].set_title('Negative')\n",
    "plt.tight_layout()\n",
    "plt.show()"
   ]
  },
  {
   "cell_type": "markdown",
   "metadata": {},
   "source": [
    "## RoBERTa sentiment Analysis "
   ]
  }
 ],
 "metadata": {
  "kernelspec": {
   "display_name": "base",
   "language": "python",
   "name": "python3"
  },
  "language_info": {
   "codemirror_mode": {
    "name": "ipython",
    "version": 3
   },
   "file_extension": ".py",
   "mimetype": "text/x-python",
   "name": "python",
   "nbconvert_exporter": "python",
   "pygments_lexer": "ipython3",
   "version": "3.9.7"
  }
 },
 "nbformat": 4,
 "nbformat_minor": 2
}
